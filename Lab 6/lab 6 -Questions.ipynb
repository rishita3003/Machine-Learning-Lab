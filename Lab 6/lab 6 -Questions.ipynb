{
 "cells": [
  {
   "cell_type": "markdown",
   "metadata": {},
   "source": [
    "# Assignment: Implement Logistic Regression and Naive Bayes"
   ]
  },
  {
   "cell_type": "code",
   "execution_count": 1,
   "metadata": {},
   "outputs": [],
   "source": [
    "import numpy as np"
   ]
  },
  {
   "cell_type": "markdown",
   "metadata": {},
   "source": [
    "## Implement Logistic Regression"
   ]
  },
  {
   "cell_type": "code",
   "execution_count": 6,
   "metadata": {},
   "outputs": [],
   "source": [
    "class LogisticRegression:\n",
    "    def __init__(self, learning_rate=0.01, epochs=1000):\n",
    "        self.learning_rate = learning_rate\n",
    "        self.epochs = epochs\n",
    "        self.weights = None\n",
    "        self.bias = None\n",
    "    \n",
    "    def sigmoid(self, z):\n",
    "        #1/1+e^-z\n",
    "        deno = 1+np.exp(-1*z)\n",
    "        return 1/deno\n",
    "        #return NotImplementedError\n",
    "\n",
    "    def fit(self, X, y):\n",
    "        m, n = X.shape\n",
    "        self.weights = np.zeros(n)\n",
    "        self.bias = 0\n",
    "        \n",
    "        for _ in range(self.epochs):\n",
    "    \n",
    "            #-1/m∑[yilog(yi_pred)+(1-yi)log(1-yi_pred)]\n",
    "            # Linear model\n",
    "            z = np.dot(X,self.weights) + self.bias\n",
    "            y_pred = self.sigmoid(z)\n",
    "\n",
    "            # Compute the gradients\n",
    "            dw = 1/m*np.dot(X.transpose(),(y_pred-y))\n",
    "            db = 1/m*np.sum(y_pred-y)\n",
    "            \n",
    "            # Update the parameters\n",
    "            self.weights -=self.learning_rate*dw\n",
    "            self.bias -= self.learning_rate*db\n",
    "            \n",
    "    def predict(self, X):\n",
    "        z = np.dot(X,self.weights)+self.bias\n",
    "        y_pred = self.sigmoid(z)\n",
    "        y_pred_class = [1 if i > 0.5 else 0 for i in y_pred]\n",
    "        return np.array(y_pred_class)\n",
    "        #return NotImplementedError"
   ]
  },
  {
   "cell_type": "code",
   "execution_count": 7,
   "metadata": {},
   "outputs": [
    {
     "name": "stdout",
     "output_type": "stream",
     "text": [
      "Logistic Regression Test Case Accuracy: 1.0\n",
      "Logistic Regression Predictions: [0 0 0 0 1 1 1 1]\n"
     ]
    }
   ],
   "source": [
    "from sklearn.metrics import accuracy_score\n",
    "X = np.array([[1, 2], [2, 3], [3, 4], [4, 5], [1, 3], [2, 4], [3, 5], [4, 6]])\n",
    "y = np.array([0, 0, 0, 0, 1, 1, 1, 1])\n",
    "\n",
    "# Logistic Regression Model Test\n",
    "model_log_reg = LogisticRegression(learning_rate=0.1, epochs=1000)\n",
    "model_log_reg.fit(X, y)\n",
    "y_pred_log_reg = model_log_reg.predict(X)\n",
    "\n",
    "# Output the accuracy and predictions\n",
    "print(\"Logistic Regression Test Case Accuracy:\", accuracy_score(y, y_pred_log_reg))\n",
    "print(\"Logistic Regression Predictions:\", y_pred_log_reg)"
   ]
  },
  {
   "cell_type": "markdown",
   "metadata": {},
   "source": [
    "## Implement Naive Bayes"
   ]
  },
  {
   "cell_type": "code",
   "execution_count": null,
   "metadata": {},
   "outputs": [],
   "source": [
    "class NaiveBayes:\n",
    "    def fit(self, X, y):\n",
    "        n_samples, n_features = X.shape\n",
    "        self.classes = np.unique(y)\n",
    "        n_classes = len(self.classes)\n",
    "        \n",
    "        # Initialize mean, variance, and prior\n",
    "\n",
    "        \n",
    "    def _calculate_likelihood(self, class_idx, x):\n",
    "        \n",
    "        #return NotImplementedError\n",
    "    \n",
    "    def _calculate_posterior(self, x):\n",
    "        posteriors = []\n",
    "        for idx, _ in enumerate(self.classes):\n",
    "            prior = \n",
    "            likelihood = \n",
    "            posterior = \n",
    "            posteriors.append(posterior)\n",
    "        #return NotImplementedError\n",
    "    \n",
    "    def predict(self, X):\n",
    "        #return NotImplementedError"
   ]
  },
  {
   "cell_type": "code",
   "execution_count": 4,
   "metadata": {},
   "outputs": [
    {
     "ename": "NameError",
     "evalue": "name 'NaiveBayes' is not defined",
     "output_type": "error",
     "traceback": [
      "\u001b[1;31m---------------------------------------------------------------------------\u001b[0m",
      "\u001b[1;31mNameError\u001b[0m                                 Traceback (most recent call last)",
      "Cell \u001b[1;32mIn[4], line 6\u001b[0m\n\u001b[0;32m      3\u001b[0m y \u001b[38;5;241m=\u001b[39m np\u001b[38;5;241m.\u001b[39marray([\u001b[38;5;241m0\u001b[39m, \u001b[38;5;241m0\u001b[39m, \u001b[38;5;241m0\u001b[39m, \u001b[38;5;241m0\u001b[39m, \u001b[38;5;241m1\u001b[39m, \u001b[38;5;241m1\u001b[39m, \u001b[38;5;241m1\u001b[39m, \u001b[38;5;241m1\u001b[39m])\n\u001b[0;32m      5\u001b[0m \u001b[38;5;66;03m# Naive Bayes Model Test\u001b[39;00m\n\u001b[1;32m----> 6\u001b[0m model_naive_bayes \u001b[38;5;241m=\u001b[39m \u001b[43mNaiveBayes\u001b[49m()\n\u001b[0;32m      7\u001b[0m model_naive_bayes\u001b[38;5;241m.\u001b[39mfit(X, y)\n\u001b[0;32m      8\u001b[0m y_pred_naive_bayes \u001b[38;5;241m=\u001b[39m model_naive_bayes\u001b[38;5;241m.\u001b[39mpredict(X)\n",
      "\u001b[1;31mNameError\u001b[0m: name 'NaiveBayes' is not defined"
     ]
    }
   ],
   "source": [
    "# Test case\n",
    "X = np.array([[1, 1], [2, 2], [3, 3], [4, 4], [1, 4], [2, 5], [3, 6], [4, 7]])\n",
    "y = np.array([0, 0, 0, 0, 1, 1, 1, 1])\n",
    "\n",
    "# Naive Bayes Model Test\n",
    "model_naive_bayes = NaiveBayes()\n",
    "model_naive_bayes.fit(X, y)\n",
    "y_pred_naive_bayes = model_naive_bayes.predict(X)\n",
    "\n",
    "# Output the accuracy and predictions\n",
    "print(\"Naive Bayes Test Case Accuracy:\", accuracy_score(y, y_pred_naive_bayes))\n",
    "print(\"Naive Bayes Predictions:\", y_pred_naive_bayes)"
   ]
  },
  {
   "cell_type": "markdown",
   "metadata": {},
   "source": [
    "## Performance comparison on Breast Cancer dataset from sklearn.datasets"
   ]
  },
  {
   "cell_type": "code",
   "execution_count": null,
   "metadata": {},
   "outputs": [],
   "source": []
  },
  {
   "cell_type": "code",
   "execution_count": null,
   "metadata": {},
   "outputs": [],
   "source": []
  }
 ],
 "metadata": {
  "kernelspec": {
   "display_name": "Python 3",
   "language": "python",
   "name": "python3"
  },
  "language_info": {
   "codemirror_mode": {
    "name": "ipython",
    "version": 3
   },
   "file_extension": ".py",
   "mimetype": "text/x-python",
   "name": "python",
   "nbconvert_exporter": "python",
   "pygments_lexer": "ipython3",
   "version": "3.11.9"
  }
 },
 "nbformat": 4,
 "nbformat_minor": 2
}
