{
 "cells": [
  {
   "cell_type": "code",
   "execution_count": 3,
   "id": "645c77f3",
   "metadata": {},
   "outputs": [],
   "source": [
    "import numpy as np"
   ]
  },
  {
   "cell_type": "markdown",
   "id": "fef4ff96",
   "metadata": {},
   "source": [
    "# Write the Perceptron algorithm as discussed in class"
   ]
  },
  {
   "cell_type": "code",
   "execution_count": null,
   "id": "0ac25cdb",
   "metadata": {},
   "outputs": [],
   "source": [
    "class Perceptron:\n",
    "\n",
    "    def __init__(self):\n",
    "        \n",
    "        self.weights = None\n",
    "    \n",
    "    def train(self, x_train, y_train):\n",
    "        n_samples, n_features = x_train.shape\n",
    "        self.weights = np.zeros(n_features + 1) # 1 for bias, array of size n_features+1\n",
    "        binary_y = np.array([1 if i > 0 else -1 for i in y_train])\n",
    "        #wTx + b, x should have \n",
    "        x_train_bias = np.hstack([np.ones((n_samples, 1)), x_train])\n",
    "        # columns of 1 are appended in the each sample of training\n",
    "\n",
    "        while True:\n",
    "            miss = 0\n",
    "            for i in range(n_samples):\n",
    "                x_current = x_train_bias[i]\n",
    "                res = x_current@self.weights\n",
    "                curr_y = binary_y[i]\n",
    "                if res*curr_y <=0: #case of misclassification\n",
    "                    self.weights += curr_y*x_current\n",
    "                    miss += 1\n",
    "            if miss == 0:\n",
    "                return\n",
    "        #raise NotImplementedError\n",
    "                \n",
    "    def test(self, x_test):\n",
    "        n_samples, n_features = x_test.shape\n",
    "        x_test_bias = np.hstack([np.ones(shape = (n_samples,1)),x_test])\n",
    "        predictions = []\n",
    "        for i in range(n_samples):\n",
    "            y_pred = x_test_bias[i]@self.weights\n",
    "            if y_pred>0:\n",
    "                predictions.append(1)\n",
    "            else:\n",
    "                predictions.append(-1)\n",
    "\n",
    "        return predictions\n",
    "\n",
    "\n",
    "        #raise NotImplementedError"
   ]
  },
  {
   "cell_type": "code",
   "execution_count": 20,
   "id": "39fd1f59",
   "metadata": {},
   "outputs": [],
   "source": [
    "def compute_accuracy(y_test, y_predict):\n",
    "    count = 0\n",
    "    for i in range(len(y_test)):\n",
    "        if(y_test[i]==y_predict[i]):\n",
    "            count+=1\n",
    "\n",
    "    return count/len(y_test)\n",
    "    \n",
    "    #raise NotImplementedError"
   ]
  },
  {
   "cell_type": "code",
   "execution_count": 9,
   "id": "d31682e0",
   "metadata": {},
   "outputs": [],
   "source": [
    "x_train = np.array([[3], [4], [6], [7], [8], [9], [5], [6], [9.5]])\n",
    "y_train = np.array([-1, -1, -1, 1, 1, 1, -1, -1, 1])"
   ]
  },
  {
   "cell_type": "code",
   "execution_count": 10,
   "id": "aded623e",
   "metadata": {},
   "outputs": [
    {
     "data": {
      "text/plain": [
       "(9, 1)"
      ]
     },
     "execution_count": 10,
     "metadata": {},
     "output_type": "execute_result"
    }
   ],
   "source": [
    "x_train.shape"
   ]
  },
  {
   "cell_type": "code",
   "execution_count": 13,
   "id": "c03439ac",
   "metadata": {},
   "outputs": [],
   "source": [
    "model = Perceptron()\n",
    "model.train(x_train, y_train)"
   ]
  },
  {
   "cell_type": "code",
   "execution_count": 14,
   "id": "2a004453",
   "metadata": {},
   "outputs": [],
   "source": [
    "x_test = np.array([[6.8], [7.2], [8.5], [11.4]])\n",
    "y_test = [1] * len(x_test)"
   ]
  },
  {
   "cell_type": "code",
   "execution_count": 17,
   "id": "f3f805ee",
   "metadata": {},
   "outputs": [
    {
     "data": {
      "text/plain": [
       "[1, 1, 1, 1]"
      ]
     },
     "execution_count": 17,
     "metadata": {},
     "output_type": "execute_result"
    }
   ],
   "source": [
    "y_test"
   ]
  },
  {
   "cell_type": "code",
   "execution_count": 15,
   "id": "cb90fd6f",
   "metadata": {},
   "outputs": [
    {
     "data": {
      "text/plain": [
       "[1, 1, 1, 1]"
      ]
     },
     "execution_count": 15,
     "metadata": {},
     "output_type": "execute_result"
    }
   ],
   "source": [
    "y_pred = model.test(x_test)\n",
    "y_pred"
   ]
  },
  {
   "cell_type": "code",
   "execution_count": 21,
   "id": "a546c861",
   "metadata": {},
   "outputs": [
    {
     "data": {
      "text/plain": [
       "1.0"
      ]
     },
     "execution_count": 21,
     "metadata": {},
     "output_type": "execute_result"
    }
   ],
   "source": [
    "accuracy = compute_accuracy(y_test, y_pred)\n",
    "accuracy"
   ]
  }
 ],
 "metadata": {
  "kernelspec": {
   "display_name": "Python 3",
   "language": "python",
   "name": "python3"
  },
  "language_info": {
   "codemirror_mode": {
    "name": "ipython",
    "version": 3
   },
   "file_extension": ".py",
   "mimetype": "text/x-python",
   "name": "python",
   "nbconvert_exporter": "python",
   "pygments_lexer": "ipython3",
   "version": "3.11.9"
  }
 },
 "nbformat": 4,
 "nbformat_minor": 5
}
