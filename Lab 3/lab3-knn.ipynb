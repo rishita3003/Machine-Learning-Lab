{
 "cells": [
  {
   "cell_type": "code",
   "execution_count": 3,
   "metadata": {
    "execution": {
     "iopub.execute_input": "2024-08-26T04:07:24.442446Z",
     "iopub.status.busy": "2024-08-26T04:07:24.442013Z",
     "iopub.status.idle": "2024-08-26T04:07:24.449320Z",
     "shell.execute_reply": "2024-08-26T04:07:24.447883Z",
     "shell.execute_reply.started": "2024-08-26T04:07:24.442404Z"
    },
    "trusted": true
   },
   "outputs": [],
   "source": [
    "%matplotlib inline\n",
    "import numpy as np"
   ]
  },
  {
   "cell_type": "markdown",
   "metadata": {},
   "source": [
    "# Lab-2: GEOMETRY & NEAREST NEIGHBORS \n",
    "- Breakdown weightage for each part of the question is given.\n",
    "- You can access class notes and library documentations."
   ]
  },
  {
   "cell_type": "markdown",
   "metadata": {},
   "source": [
    "## 1. Euclidean Norm (10 + 10 + 20 + 10 + 10) \n",
    "The first task for today will be to write functions to compute distances in different orders of complexity."
   ]
  },
  {
   "cell_type": "code",
   "execution_count": 4,
   "metadata": {
    "execution": {
     "iopub.execute_input": "2024-08-26T04:07:24.457126Z",
     "iopub.status.busy": "2024-08-26T04:07:24.456641Z",
     "iopub.status.idle": "2024-08-26T04:07:24.469437Z",
     "shell.execute_reply": "2024-08-26T04:07:24.468187Z",
     "shell.execute_reply.started": "2024-08-26T04:07:24.457082Z"
    },
    "trusted": true
   },
   "outputs": [],
   "source": [
    "np.random.seed(2)\n",
    "x_a, x_b = (np.random.rand(i, 2) for i in (2, 3))\n",
    "x_c, x_d = (np.random.rand(i, 100) for i in (125, 150))"
   ]
  },
  {
   "cell_type": "code",
   "execution_count": 5,
   "metadata": {
    "execution": {
     "iopub.execute_input": "2024-08-26T04:07:24.472857Z",
     "iopub.status.busy": "2024-08-26T04:07:24.472321Z",
     "iopub.status.idle": "2024-08-26T04:07:24.489924Z",
     "shell.execute_reply": "2024-08-26T04:07:24.488548Z",
     "shell.execute_reply.started": "2024-08-26T04:07:24.472804Z"
    },
    "trusted": true
   },
   "outputs": [
    {
     "data": {
      "text/plain": [
       "(array([[0.4359949 , 0.02592623],\n",
       "        [0.54966248, 0.43532239]]),\n",
       " array([[0.4203678 , 0.33033482],\n",
       "        [0.20464863, 0.61927097],\n",
       "        [0.29965467, 0.26682728]]))"
      ]
     },
     "execution_count": 5,
     "metadata": {},
     "output_type": "execute_result"
    }
   ],
   "source": [
    "x_a, x_b"
   ]
  },
  {
   "cell_type": "code",
   "execution_count": 6,
   "metadata": {
    "execution": {
     "iopub.execute_input": "2024-08-26T04:07:24.492629Z",
     "iopub.status.busy": "2024-08-26T04:07:24.492090Z",
     "iopub.status.idle": "2024-08-26T04:07:24.507206Z",
     "shell.execute_reply": "2024-08-26T04:07:24.506046Z",
     "shell.execute_reply.started": "2024-08-26T04:07:24.492580Z"
    },
    "trusted": true
   },
   "outputs": [
    {
     "data": {
      "text/plain": [
       "(2, (2, 2), 2)"
      ]
     },
     "execution_count": 6,
     "metadata": {},
     "output_type": "execute_result"
    }
   ],
   "source": [
    "x_a.ndim, x_a.shape, x_a.shape[0]"
   ]
  },
  {
   "cell_type": "code",
   "execution_count": 7,
   "metadata": {
    "execution": {
     "iopub.execute_input": "2024-08-26T04:07:24.509256Z",
     "iopub.status.busy": "2024-08-26T04:07:24.508799Z",
     "iopub.status.idle": "2024-08-26T04:07:24.522824Z",
     "shell.execute_reply": "2024-08-26T04:07:24.521662Z",
     "shell.execute_reply.started": "2024-08-26T04:07:24.509193Z"
    },
    "trusted": true
   },
   "outputs": [
    {
     "name": "stdout",
     "output_type": "stream",
     "text": [
      "[0.4359949  0.02592623]\n",
      "[0.54966248 0.43532239]\n"
     ]
    }
   ],
   "source": [
    "for val in x_a:\n",
    "    print(val)"
   ]
  },
  {
   "cell_type": "code",
   "execution_count": 8,
   "metadata": {
    "execution": {
     "iopub.execute_input": "2024-08-26T04:07:24.527188Z",
     "iopub.status.busy": "2024-08-26T04:07:24.526784Z",
     "iopub.status.idle": "2024-08-26T04:07:24.539026Z",
     "shell.execute_reply": "2024-08-26T04:07:24.537748Z",
     "shell.execute_reply.started": "2024-08-26T04:07:24.527138Z"
    },
    "trusted": true
   },
   "outputs": [
    {
     "name": "stdout",
     "output_type": "stream",
     "text": [
      "[0.4203678  0.33033482]\n",
      "[0.20464863 0.61927097]\n",
      "[0.29965467 0.26682728]\n"
     ]
    }
   ],
   "source": [
    "for val in x_b:\n",
    "    print(val)"
   ]
  },
  {
   "cell_type": "markdown",
   "metadata": {},
   "source": [
    "### a."
   ]
  },
  {
   "cell_type": "markdown",
   "metadata": {},
   "source": [
    "### 3 For loops for traversing the x matrix, y matrix and then the rows of these matrices, since their dimensions are same. Then saved the square of the differences of the dimensions in a temporary array and then stored these arrays in the final result dist"
   ]
  },
  {
   "cell_type": "code",
   "execution_count": 9,
   "metadata": {
    "execution": {
     "iopub.execute_input": "2024-08-26T04:07:24.540588Z",
     "iopub.status.busy": "2024-08-26T04:07:24.540206Z",
     "iopub.status.idle": "2024-08-26T04:07:24.553736Z",
     "shell.execute_reply": "2024-08-26T04:07:24.552759Z",
     "shell.execute_reply.started": "2024-08-26T04:07:24.540543Z"
    },
    "trusted": true
   },
   "outputs": [],
   "source": [
    "def pairwise_1(x, y):\n",
    "    \"\"\"\n",
    "    Find pairwise euclidean distance using three for loops\n",
    "    \"\"\"\n",
    "    # x is 2*2\n",
    "    # y is 3*2\n",
    "    dist = np.empty((x.shape[0], y.shape[0]))\n",
    "    i = 0\n",
    "    \n",
    "    for val1 in x:\n",
    "        temp = []\n",
    "        for val2 in y:\n",
    "            distance = 0\n",
    "            for k in range(val1.shape[0]):\n",
    "                dim1 = val1[k]\n",
    "                dim2 = val2[k]\n",
    "                distance = distance + (dim1 - dim2) ** 2\n",
    "            temp.append(distance ** (1/2))\n",
    "        dist[i] = temp\n",
    "        i = i + 1\n",
    "    \n",
    "    return dist\n",
    "             \n",
    "#raise NotImplementedError"
   ]
  },
  {
   "cell_type": "code",
   "execution_count": 10,
   "metadata": {
    "execution": {
     "iopub.execute_input": "2024-08-26T04:07:24.555721Z",
     "iopub.status.busy": "2024-08-26T04:07:24.555200Z",
     "iopub.status.idle": "2024-08-26T04:07:24.573248Z",
     "shell.execute_reply": "2024-08-26T04:07:24.571843Z",
     "shell.execute_reply.started": "2024-08-26T04:07:24.555669Z"
    },
    "trusted": true
   },
   "outputs": [
    {
     "data": {
      "text/plain": [
       "array([[0.30480944, 0.6368509 , 0.27680674],\n",
       "       [0.1665518 , 0.39098802, 0.30148716]])"
      ]
     },
     "execution_count": 10,
     "metadata": {},
     "output_type": "execute_result"
    }
   ],
   "source": [
    "pairwise_1(x_a, x_b) #checking my function's output"
   ]
  },
  {
   "cell_type": "code",
   "execution_count": 11,
   "metadata": {
    "execution": {
     "iopub.execute_input": "2024-08-26T04:07:24.575606Z",
     "iopub.status.busy": "2024-08-26T04:07:24.575140Z",
     "iopub.status.idle": "2024-08-26T04:07:24.589928Z",
     "shell.execute_reply": "2024-08-26T04:07:24.588799Z",
     "shell.execute_reply.started": "2024-08-26T04:07:24.575549Z"
    },
    "trusted": true
   },
   "outputs": [
    {
     "data": {
      "text/plain": [
       "array([[0.30480944, 0.6368509 , 0.27680674],\n",
       "       [0.1665518 , 0.39098802, 0.30148716]])"
      ]
     },
     "execution_count": 11,
     "metadata": {},
     "output_type": "execute_result"
    }
   ],
   "source": [
    "pairwise_1(x_a, x_b)"
   ]
  },
  {
   "cell_type": "markdown",
   "metadata": {},
   "source": [
    "### b."
   ]
  },
  {
   "cell_type": "code",
   "execution_count": 12,
   "metadata": {
    "execution": {
     "iopub.execute_input": "2024-08-26T04:07:24.591740Z",
     "iopub.status.busy": "2024-08-26T04:07:24.591358Z",
     "iopub.status.idle": "2024-08-26T04:07:24.607441Z",
     "shell.execute_reply": "2024-08-26T04:07:24.606452Z",
     "shell.execute_reply.started": "2024-08-26T04:07:24.591684Z"
    },
    "trusted": true
   },
   "outputs": [
    {
     "name": "stdout",
     "output_type": "stream",
     "text": [
      "[0.4359949  0.02592623]\n",
      "[0.54966248 0.43532239]\n"
     ]
    }
   ],
   "source": [
    "for val in x_a:\n",
    "    print(val)"
   ]
  },
  {
   "cell_type": "code",
   "execution_count": 13,
   "metadata": {
    "execution": {
     "iopub.execute_input": "2024-08-26T04:07:24.609156Z",
     "iopub.status.busy": "2024-08-26T04:07:24.608646Z",
     "iopub.status.idle": "2024-08-26T04:07:24.624568Z",
     "shell.execute_reply": "2024-08-26T04:07:24.622950Z",
     "shell.execute_reply.started": "2024-08-26T04:07:24.609106Z"
    },
    "trusted": true
   },
   "outputs": [
    {
     "name": "stdout",
     "output_type": "stream",
     "text": [
      "[0.4203678  0.33033482]\n",
      "[0.20464863 0.61927097]\n",
      "[0.29965467 0.26682728]\n"
     ]
    }
   ],
   "source": [
    "for val in x_b:\n",
    "    print(val)"
   ]
  },
  {
   "cell_type": "code",
   "execution_count": 14,
   "metadata": {
    "execution": {
     "iopub.execute_input": "2024-08-26T04:07:24.626740Z",
     "iopub.status.busy": "2024-08-26T04:07:24.626239Z",
     "iopub.status.idle": "2024-08-26T04:07:24.636723Z",
     "shell.execute_reply": "2024-08-26T04:07:24.635338Z",
     "shell.execute_reply.started": "2024-08-26T04:07:24.626687Z"
    },
    "trusted": true
   },
   "outputs": [],
   "source": [
    "def pairwise_2(x, y):\n",
    "    \"\"\"\n",
    "    Find pairwise euclidean distance using two for loops\n",
    "    \"\"\"\n",
    "    dist = np.empty((x.shape[0], y.shape[0]))\n",
    "    i = 0\n",
    "    for val1 in x:\n",
    "        j = 0\n",
    "        for val2 in  y:\n",
    "            temp = []\n",
    "            dist[i][j] = np.sum((val1 - val2) ** 2) ** (1/2)\n",
    "            #print(dist[i][j])\n",
    "            j = j + 1\n",
    "        i = i + 1\n",
    "    return dist\n",
    "    #raise NotImplementedError"
   ]
  },
  {
   "cell_type": "code",
   "execution_count": 15,
   "metadata": {
    "execution": {
     "iopub.execute_input": "2024-08-26T04:07:24.639649Z",
     "iopub.status.busy": "2024-08-26T04:07:24.639253Z",
     "iopub.status.idle": "2024-08-26T04:07:24.657224Z",
     "shell.execute_reply": "2024-08-26T04:07:24.655452Z",
     "shell.execute_reply.started": "2024-08-26T04:07:24.639610Z"
    },
    "trusted": true
   },
   "outputs": [
    {
     "data": {
      "text/plain": [
       "array([[0.30480944, 0.6368509 , 0.27680674],\n",
       "       [0.1665518 , 0.39098802, 0.30148716]])"
      ]
     },
     "execution_count": 15,
     "metadata": {},
     "output_type": "execute_result"
    }
   ],
   "source": [
    "pairwise_2(x_a, x_b) #checking my function's output"
   ]
  },
  {
   "cell_type": "code",
   "execution_count": 16,
   "metadata": {
    "execution": {
     "iopub.execute_input": "2024-08-26T04:07:24.659889Z",
     "iopub.status.busy": "2024-08-26T04:07:24.659474Z",
     "iopub.status.idle": "2024-08-26T04:07:24.673787Z",
     "shell.execute_reply": "2024-08-26T04:07:24.672567Z",
     "shell.execute_reply.started": "2024-08-26T04:07:24.659850Z"
    },
    "trusted": true
   },
   "outputs": [
    {
     "data": {
      "text/plain": [
       "array([[0.30480944, 0.6368509 , 0.27680674],\n",
       "       [0.1665518 , 0.39098802, 0.30148716]])"
      ]
     },
     "execution_count": 16,
     "metadata": {},
     "output_type": "execute_result"
    }
   ],
   "source": [
    "pairwise_2(x_a, x_b)"
   ]
  },
  {
   "cell_type": "markdown",
   "metadata": {},
   "source": [
    "### c."
   ]
  },
  {
   "cell_type": "code",
   "execution_count": 17,
   "metadata": {
    "execution": {
     "iopub.execute_input": "2024-08-26T04:07:24.681118Z",
     "iopub.status.busy": "2024-08-26T04:07:24.680617Z",
     "iopub.status.idle": "2024-08-26T04:07:24.690160Z",
     "shell.execute_reply": "2024-08-26T04:07:24.688902Z",
     "shell.execute_reply.started": "2024-08-26T04:07:24.681076Z"
    },
    "trusted": true
   },
   "outputs": [],
   "source": [
    "def pairwise_3(x, y):\n",
    "    \"\"\"\n",
    "    An optimize solution with no for loops\n",
    "  \n",
    "    \"\"\"\n",
    "    dist_mat = np.sum((x[:, None] - y) ** 2, axis = -1) ** (1/2)\n",
    "    return dist_mat\n",
    "    \n",
    "    #raise NotImplementedError"
   ]
  },
  {
   "cell_type": "code",
   "execution_count": 18,
   "metadata": {
    "execution": {
     "iopub.execute_input": "2024-08-26T04:07:24.692425Z",
     "iopub.status.busy": "2024-08-26T04:07:24.691560Z",
     "iopub.status.idle": "2024-08-26T04:07:24.709124Z",
     "shell.execute_reply": "2024-08-26T04:07:24.707945Z",
     "shell.execute_reply.started": "2024-08-26T04:07:24.692353Z"
    },
    "trusted": true
   },
   "outputs": [
    {
     "data": {
      "text/plain": [
       "array([[0.30480944, 0.6368509 , 0.27680674],\n",
       "       [0.1665518 , 0.39098802, 0.30148716]])"
      ]
     },
     "execution_count": 18,
     "metadata": {},
     "output_type": "execute_result"
    }
   ],
   "source": [
    "pairwise_3(x_a, x_b) #checking my function's output"
   ]
  },
  {
   "cell_type": "code",
   "execution_count": 19,
   "metadata": {
    "execution": {
     "iopub.execute_input": "2024-08-26T04:07:24.711338Z",
     "iopub.status.busy": "2024-08-26T04:07:24.710858Z",
     "iopub.status.idle": "2024-08-26T04:07:24.725658Z",
     "shell.execute_reply": "2024-08-26T04:07:24.724480Z",
     "shell.execute_reply.started": "2024-08-26T04:07:24.711285Z"
    },
    "trusted": true
   },
   "outputs": [
    {
     "data": {
      "text/plain": [
       "array([[0.30480944, 0.6368509 , 0.27680674],\n",
       "       [0.1665518 , 0.39098802, 0.30148716]])"
      ]
     },
     "execution_count": 19,
     "metadata": {},
     "output_type": "execute_result"
    }
   ],
   "source": [
    "pairwise_3(x_a, x_b)"
   ]
  },
  {
   "cell_type": "markdown",
   "metadata": {},
   "source": [
    "### d."
   ]
  },
  {
   "cell_type": "code",
   "execution_count": 20,
   "metadata": {
    "execution": {
     "iopub.execute_input": "2024-08-26T04:07:24.728785Z",
     "iopub.status.busy": "2024-08-26T04:07:24.728302Z",
     "iopub.status.idle": "2024-08-26T04:07:25.260602Z",
     "shell.execute_reply": "2024-08-26T04:07:25.259385Z",
     "shell.execute_reply.started": "2024-08-26T04:07:24.728732Z"
    },
    "trusted": true
   },
   "outputs": [],
   "source": [
    "# Compute distance using euclidean distance from scipy library(you can only refer the scipy documentation)\n",
    "from scipy.spatial import distance_matrix \n",
    "def scipy_version(x, y):\n",
    "    \"\"\"\n",
    "    A solution using scipy\n",
    "    \"\"\"\n",
    "    dist = distance_matrix(x, y, p=2)\n",
    "    return dist\n",
    "    #raise NotImplementedError"
   ]
  },
  {
   "cell_type": "code",
   "execution_count": 21,
   "metadata": {
    "execution": {
     "iopub.execute_input": "2024-08-26T04:07:25.265142Z",
     "iopub.status.busy": "2024-08-26T04:07:25.264668Z",
     "iopub.status.idle": "2024-08-26T04:07:25.276758Z",
     "shell.execute_reply": "2024-08-26T04:07:25.275442Z",
     "shell.execute_reply.started": "2024-08-26T04:07:25.265101Z"
    },
    "trusted": true
   },
   "outputs": [
    {
     "data": {
      "text/plain": [
       "array([[0.30480944, 0.6368509 , 0.27680674],\n",
       "       [0.1665518 , 0.39098802, 0.30148716]])"
      ]
     },
     "execution_count": 21,
     "metadata": {},
     "output_type": "execute_result"
    }
   ],
   "source": [
    "scipy_version(x_a, x_b)"
   ]
  },
  {
   "cell_type": "markdown",
   "metadata": {},
   "source": [
    "### e."
   ]
  },
  {
   "cell_type": "code",
   "execution_count": 22,
   "metadata": {
    "execution": {
     "iopub.execute_input": "2024-08-26T04:07:25.278673Z",
     "iopub.status.busy": "2024-08-26T04:07:25.278261Z",
     "iopub.status.idle": "2024-08-26T04:07:25.388930Z",
     "shell.execute_reply": "2024-08-26T04:07:25.387807Z",
     "shell.execute_reply.started": "2024-08-26T04:07:25.278634Z"
    },
    "trusted": true
   },
   "outputs": [
    {
     "name": "stdout",
     "output_type": "stream",
     "text": [
      "28 µs ± 1.28 µs per loop (mean ± std. dev. of 7 runs, 100 loops each)\n",
      "69.2 µs ± 4.76 µs per loop (mean ± std. dev. of 7 runs, 100 loops each)\n",
      "12.9 µs ± 323 ns per loop (mean ± std. dev. of 7 runs, 100 loops each)\n",
      "21.2 µs ± 397 ns per loop (mean ± std. dev. of 7 runs, 100 loops each)\n"
     ]
    }
   ],
   "source": [
    "# Now compare all 4 method's runtime using inbuilt timeit function for 7 runs.\n",
    "methods = [\n",
    "    pairwise_1,\n",
    "    pairwise_2,\n",
    "    pairwise_3,\n",
    "    scipy_version,\n",
    "]\n",
    "#TODO: Compute the run time(r) of all methods above\n",
    "import timeit\n",
    "%timeit -n100 -r7 pairwise_1(x_a, x_b)\n",
    "%timeit -n100 -r7 pairwise_2(x_a, x_b)\n",
    "%timeit -n100 -r7 pairwise_3(x_a, x_b)\n",
    "%timeit -n100 -r7 scipy_version(x_a, x_b)"
   ]
  },
  {
   "cell_type": "code",
   "execution_count": 23,
   "metadata": {
    "execution": {
     "iopub.execute_input": "2024-08-26T04:07:25.390598Z",
     "iopub.status.busy": "2024-08-26T04:07:25.390220Z",
     "iopub.status.idle": "2024-08-26T04:07:25.396565Z",
     "shell.execute_reply": "2024-08-26T04:07:25.395033Z",
     "shell.execute_reply.started": "2024-08-26T04:07:25.390559Z"
    },
    "trusted": true
   },
   "outputs": [],
   "source": [
    "# Now compare all 4 method's runtime using inbuilt timeit function for 7 runs.\n",
    "methods = [\n",
    "    pairwise_1,\n",
    "    pairwise_2,\n",
    "    pairwise_3,\n",
    "    scipy_version,\n",
    "]\n",
    "#TODO: Compute the run time(r) of all methods above"
   ]
  },
  {
   "cell_type": "code",
   "execution_count": 24,
   "metadata": {
    "execution": {
     "iopub.execute_input": "2024-08-26T04:07:25.398864Z",
     "iopub.status.busy": "2024-08-26T04:07:25.398480Z",
     "iopub.status.idle": "2024-08-26T04:07:25.500524Z",
     "shell.execute_reply": "2024-08-26T04:07:25.499380Z",
     "shell.execute_reply.started": "2024-08-26T04:07:25.398822Z"
    },
    "trusted": true
   },
   "outputs": [
    {
     "name": "stdout",
     "output_type": "stream",
     "text": [
      "0.0026518970000211084\n",
      "0.006520372000011321\n",
      "0.0012571679999950902\n",
      "0.0021040139999968233\n"
     ]
    }
   ],
   "source": [
    "#print best values of time(in s) for all methods, out of the 7 runs.\n",
    "setup = '''import numpy as np \n",
    "from __main__ import pairwise_1, x_a, x_b, pairwise_2, pairwise_3, scipy_version\n",
    "'''\n",
    "print(min(timeit.Timer(\"pairwise_1(x_a, x_b)\", setup=setup).repeat(7, 100)))\n",
    "print(min(timeit.Timer(\"pairwise_2(x_a, x_b)\", setup=setup).repeat(7, 100)))\n",
    "print(min(timeit.Timer(\"pairwise_3(x_a, x_b)\", setup=setup).repeat(7, 100)))\n",
    "print(min(timeit.Timer(\"scipy_version(x_a, x_b)\", setup=setup).repeat(7, 100)))\n"
   ]
  },
  {
   "cell_type": "markdown",
   "metadata": {},
   "source": [
    "## 2. KNN (10 + 20 + 10)\n",
    "Next we are going to implement KNN algorithm from scratch"
   ]
  },
  {
   "cell_type": "markdown",
   "metadata": {},
   "source": [
    "### a."
   ]
  },
  {
   "cell_type": "markdown",
   "metadata": {},
   "source": [
    "### The function below is storing the distances and the labels in the dictionary. Then the distances are sorted and the sorted labels are returned"
   ]
  },
  {
   "cell_type": "code",
   "execution_count": 25,
   "metadata": {
    "execution": {
     "iopub.execute_input": "2024-08-26T04:07:25.502841Z",
     "iopub.status.busy": "2024-08-26T04:07:25.502113Z",
     "iopub.status.idle": "2024-08-26T04:07:25.510597Z",
     "shell.execute_reply": "2024-08-26T04:07:25.509323Z",
     "shell.execute_reply.started": "2024-08-26T04:07:25.502799Z"
    },
    "trusted": true
   },
   "outputs": [],
   "source": [
    "# sort elements of matrix and corresponding labels in ascending order.\n",
    "def get_sorted_train_labels(distance_matrix, labels):\n",
    "    sorted_labels = np.empty(distance_matrix.shape)\n",
    "    #print(sorted_labels.shape[0], sorted_labels.shape[1])\n",
    "    j = 0\n",
    "    \n",
    "    for row in range(distance_matrix.shape[0]):\n",
    "        dict = {}\n",
    "        for i in range(distance_matrix.shape[1]):\n",
    "            dict[distance_matrix[row][i]] = y_train[i]\n",
    "            \n",
    "        dist_list = list(dict.keys())\n",
    "        dist_list.sort()\n",
    "        for ele in range(len(dist_list)):\n",
    "            sorted_labels[j][ele] = int(dict[dist_list[ele]])    \n",
    "        j = j + 1\n",
    "\n",
    "        \n",
    "    return sorted_labels\n",
    "        \n",
    "    #raise NotImplementedError"
   ]
  },
  {
   "cell_type": "code",
   "execution_count": 26,
   "metadata": {
    "execution": {
     "iopub.execute_input": "2024-08-26T04:07:25.512680Z",
     "iopub.status.busy": "2024-08-26T04:07:25.512248Z",
     "iopub.status.idle": "2024-08-26T04:07:25.526397Z",
     "shell.execute_reply": "2024-08-26T04:07:25.525098Z",
     "shell.execute_reply.started": "2024-08-26T04:07:25.512642Z"
    },
    "trusted": true
   },
   "outputs": [],
   "source": [
    "# test cases\n",
    "x_test = np.array([[1,2,3] , [-4,5,-6]])\n",
    "x_train = np.array([[0,0,0], [1,2,3], [4,5,6], [-4, 4, -6]]) \n",
    "y_train = np.array([[1, 1, 2, 3]]).T  #labels"
   ]
  },
  {
   "cell_type": "code",
   "execution_count": 27,
   "metadata": {
    "execution": {
     "iopub.execute_input": "2024-08-26T04:07:25.529033Z",
     "iopub.status.busy": "2024-08-26T04:07:25.528574Z",
     "iopub.status.idle": "2024-08-26T04:07:25.541771Z",
     "shell.execute_reply": "2024-08-26T04:07:25.540584Z",
     "shell.execute_reply.started": "2024-08-26T04:07:25.528979Z"
    },
    "trusted": true
   },
   "outputs": [
    {
     "data": {
      "text/plain": [
       "array([[ True,  True,  True,  True],\n",
       "       [ True,  True,  True,  True]])"
      ]
     },
     "execution_count": 27,
     "metadata": {},
     "output_type": "execute_result"
    }
   ],
   "source": [
    "# Here, we are comparing the distance computed by different methods if they are similar or not.\n",
    "np.isclose(pairwise_1(x_test, x_train), pairwise_2(x_test, x_train)) "
   ]
  },
  {
   "cell_type": "code",
   "execution_count": 28,
   "metadata": {
    "execution": {
     "iopub.execute_input": "2024-08-26T04:07:25.544113Z",
     "iopub.status.busy": "2024-08-26T04:07:25.543454Z",
     "iopub.status.idle": "2024-08-26T04:07:25.556040Z",
     "shell.execute_reply": "2024-08-26T04:07:25.554733Z",
     "shell.execute_reply.started": "2024-08-26T04:07:25.544072Z"
    },
    "trusted": true
   },
   "outputs": [
    {
     "data": {
      "text/plain": [
       "array([[ True,  True,  True,  True],\n",
       "       [ True,  True,  True,  True]])"
      ]
     },
     "execution_count": 28,
     "metadata": {},
     "output_type": "execute_result"
    }
   ],
   "source": [
    "np.isclose(pairwise_2(x_test, x_train), pairwise_3(x_test, x_train))"
   ]
  },
  {
   "cell_type": "code",
   "execution_count": 29,
   "metadata": {
    "execution": {
     "iopub.execute_input": "2024-08-26T04:07:25.557856Z",
     "iopub.status.busy": "2024-08-26T04:07:25.557473Z",
     "iopub.status.idle": "2024-08-26T04:07:25.567244Z",
     "shell.execute_reply": "2024-08-26T04:07:25.566246Z",
     "shell.execute_reply.started": "2024-08-26T04:07:25.557816Z"
    },
    "trusted": true
   },
   "outputs": [],
   "source": [
    "distance_matrix = pairwise_3(x_test, x_train)"
   ]
  },
  {
   "cell_type": "code",
   "execution_count": 30,
   "metadata": {
    "execution": {
     "iopub.execute_input": "2024-08-26T04:07:25.569189Z",
     "iopub.status.busy": "2024-08-26T04:07:25.568784Z",
     "iopub.status.idle": "2024-08-26T04:07:25.579935Z",
     "shell.execute_reply": "2024-08-26T04:07:25.578707Z",
     "shell.execute_reply.started": "2024-08-26T04:07:25.569151Z"
    },
    "trusted": true
   },
   "outputs": [
    {
     "name": "stdout",
     "output_type": "stream",
     "text": [
      "[[ 3.74165739  0.          5.19615242 10.48808848]\n",
      " [ 8.77496439 10.72380529 14.4222051   1.        ]]\n"
     ]
    }
   ],
   "source": [
    "print(distance_matrix)"
   ]
  },
  {
   "cell_type": "code",
   "execution_count": 31,
   "metadata": {
    "execution": {
     "iopub.execute_input": "2024-08-26T04:07:25.581886Z",
     "iopub.status.busy": "2024-08-26T04:07:25.581460Z",
     "iopub.status.idle": "2024-08-26T04:07:25.593896Z",
     "shell.execute_reply": "2024-08-26T04:07:25.592592Z",
     "shell.execute_reply.started": "2024-08-26T04:07:25.581836Z"
    },
    "trusted": true
   },
   "outputs": [
    {
     "data": {
      "text/plain": [
       "(2, 4)"
      ]
     },
     "execution_count": 31,
     "metadata": {},
     "output_type": "execute_result"
    }
   ],
   "source": [
    "np.shape(distance_matrix)"
   ]
  },
  {
   "cell_type": "code",
   "execution_count": 32,
   "metadata": {
    "execution": {
     "iopub.execute_input": "2024-08-26T04:07:25.596091Z",
     "iopub.status.busy": "2024-08-26T04:07:25.595601Z",
     "iopub.status.idle": "2024-08-26T04:07:25.605995Z",
     "shell.execute_reply": "2024-08-26T04:07:25.604872Z",
     "shell.execute_reply.started": "2024-08-26T04:07:25.596039Z"
    },
    "trusted": true
   },
   "outputs": [
    {
     "name": "stderr",
     "output_type": "stream",
     "text": [
      "/tmp/ipykernel_36/2589960791.py:15: DeprecationWarning: Conversion of an array with ndim > 0 to a scalar is deprecated, and will error in future. Ensure you extract a single element from your array before performing this operation. (Deprecated NumPy 1.25.)\n",
      "  sorted_labels[j][ele] = int(dict[dist_list[ele]])\n"
     ]
    },
    {
     "data": {
      "text/plain": [
       "array([[1., 1., 2., 3.],\n",
       "       [3., 1., 1., 2.]])"
      ]
     },
     "execution_count": 32,
     "metadata": {},
     "output_type": "execute_result"
    }
   ],
   "source": [
    "sorted_labels = get_sorted_train_labels(distance_matrix, y_train)\n",
    "sorted_labels"
   ]
  },
  {
   "cell_type": "code",
   "execution_count": 33,
   "metadata": {
    "execution": {
     "iopub.execute_input": "2024-08-26T04:07:25.608621Z",
     "iopub.status.busy": "2024-08-26T04:07:25.607437Z",
     "iopub.status.idle": "2024-08-26T04:07:25.617617Z",
     "shell.execute_reply": "2024-08-26T04:07:25.616507Z",
     "shell.execute_reply.started": "2024-08-26T04:07:25.608569Z"
    },
    "trusted": true
   },
   "outputs": [
    {
     "name": "stderr",
     "output_type": "stream",
     "text": [
      "/tmp/ipykernel_36/2589960791.py:15: DeprecationWarning: Conversion of an array with ndim > 0 to a scalar is deprecated, and will error in future. Ensure you extract a single element from your array before performing this operation. (Deprecated NumPy 1.25.)\n",
      "  sorted_labels[j][ele] = int(dict[dist_list[ele]])\n"
     ]
    }
   ],
   "source": [
    "# sorting distance computations and their corresponding labels.\n",
    "sorted_train_labels = get_sorted_train_labels(distance_matrix, y_train)"
   ]
  },
  {
   "cell_type": "code",
   "execution_count": 34,
   "metadata": {
    "execution": {
     "iopub.execute_input": "2024-08-26T04:07:25.620223Z",
     "iopub.status.busy": "2024-08-26T04:07:25.619041Z",
     "iopub.status.idle": "2024-08-26T04:07:25.634727Z",
     "shell.execute_reply": "2024-08-26T04:07:25.633589Z",
     "shell.execute_reply.started": "2024-08-26T04:07:25.620166Z"
    },
    "trusted": true
   },
   "outputs": [
    {
     "name": "stdout",
     "output_type": "stream",
     "text": [
      "[[1. 1. 2. 3.]\n",
      " [3. 1. 1. 2.]]\n"
     ]
    }
   ],
   "source": [
    "print(sorted_train_labels)"
   ]
  },
  {
   "cell_type": "code",
   "execution_count": 35,
   "metadata": {
    "execution": {
     "iopub.execute_input": "2024-08-26T04:07:25.637075Z",
     "iopub.status.busy": "2024-08-26T04:07:25.636144Z",
     "iopub.status.idle": "2024-08-26T04:07:25.646444Z",
     "shell.execute_reply": "2024-08-26T04:07:25.645104Z",
     "shell.execute_reply.started": "2024-08-26T04:07:25.637033Z"
    },
    "trusted": true
   },
   "outputs": [
    {
     "name": "stdout",
     "output_type": "stream",
     "text": [
      "Closest 3 classes for first element from set X: [1. 1. 2.]\n"
     ]
    }
   ],
   "source": [
    "print(\"Closest 3 classes for first element from set X: {}\".format(sorted_train_labels[0, :3]))"
   ]
  },
  {
   "cell_type": "code",
   "execution_count": 36,
   "metadata": {
    "execution": {
     "iopub.execute_input": "2024-08-26T04:07:25.648407Z",
     "iopub.status.busy": "2024-08-26T04:07:25.647985Z",
     "iopub.status.idle": "2024-08-26T04:07:25.657668Z",
     "shell.execute_reply": "2024-08-26T04:07:25.656494Z",
     "shell.execute_reply.started": "2024-08-26T04:07:25.648343Z"
    },
    "trusted": true
   },
   "outputs": [
    {
     "name": "stdout",
     "output_type": "stream",
     "text": [
      "Closest 3 classes for first element from set X: [1. 1. 2.]\n"
     ]
    }
   ],
   "source": [
    "print(\"Closest 3 classes for first element from set X: {}\".format(sorted_train_labels[0, :3]))"
   ]
  },
  {
   "cell_type": "markdown",
   "metadata": {},
   "source": [
    "### b."
   ]
  },
  {
   "cell_type": "markdown",
   "metadata": {},
   "source": [
    "### The function below is traversing through the labels matrix and for each test data point, it is storing the occurences of the top k labels in the dictionary. Then the label with maximum number of occurences is stored as the final label. If 2 labels have equal number of occurences then the label with smaller numerical value is stored in final"
   ]
  },
  {
   "cell_type": "code",
   "execution_count": 37,
   "metadata": {
    "execution": {
     "iopub.execute_input": "2024-08-26T04:07:25.659587Z",
     "iopub.status.busy": "2024-08-26T04:07:25.659169Z",
     "iopub.status.idle": "2024-08-26T04:07:25.671426Z",
     "shell.execute_reply": "2024-08-26T04:07:25.669814Z",
     "shell.execute_reply.started": "2024-08-26T04:07:25.659527Z"
    },
    "trusted": true
   },
   "outputs": [],
   "source": [
    "# First arrange the label sequence and then find the mode of k labels.\n",
    "def get_mode_of_labels(labels, k):\n",
    "    \"\"\"\n",
    "    Compute the mode of k labels\n",
    "    \"\"\"\n",
    "    \n",
    "    #print(labels)\n",
    "    final_labels = []\n",
    "    for row in labels:\n",
    "        dict = {}\n",
    "        #print(row)\n",
    "        for j in row:\n",
    "            #print(j)\n",
    "            dict[j] = 0\n",
    "            \n",
    "        #print(len(row))\n",
    "        for i in range(len(row)):\n",
    "            if (i == (k - 1)):\n",
    "                #print(i)\n",
    "                break\n",
    "            else:\n",
    "                dict[row[i]] = dict[row[i]] + 1\n",
    "                #print(dict[row[i]])\n",
    "\n",
    "        maxm = 0\n",
    "        label = 0   \n",
    "        #print(dict)\n",
    "        for key in dict.keys():\n",
    "            if(dict[key] > maxm):\n",
    "                label = key\n",
    "                maxm = dict[key]\n",
    "            elif(dict[key] == maxm):\n",
    "                if(label > key or label == 0):\n",
    "                    label = key\n",
    "                \n",
    "        #print(label)\n",
    "        final_labels.append(int(label))\n",
    "        #print(final_labels)\n",
    "\n",
    "    #print(final_labels)\n",
    "    return final_labels\n",
    "    \n",
    "   # raise NotImplementedError"
   ]
  },
  {
   "cell_type": "markdown",
   "metadata": {},
   "source": [
    "### c."
   ]
  },
  {
   "cell_type": "code",
   "execution_count": 38,
   "metadata": {
    "execution": {
     "iopub.execute_input": "2024-08-26T04:07:25.673886Z",
     "iopub.status.busy": "2024-08-26T04:07:25.673358Z",
     "iopub.status.idle": "2024-08-26T04:07:25.685405Z",
     "shell.execute_reply": "2024-08-26T04:07:25.684498Z",
     "shell.execute_reply.started": "2024-08-26T04:07:25.673846Z"
    },
    "trusted": true
   },
   "outputs": [],
   "source": [
    "# Now, using the functions created above, build a KNN.\n",
    "def predict(x_test, x_train, y_train, k, distance_function):\n",
    "\n",
    "    final_labels = []\n",
    "    \n",
    "    dist_mat = pairwise_3(x_test, x_train)\n",
    "    get_sorted_labels = get_sorted_train_labels(dist_mat, y_train)\n",
    "    final_labels = get_mode_of_labels(get_sorted_labels, k)\n",
    "    return final_labels\n",
    "   # raise NotImplementedError"
   ]
  },
  {
   "cell_type": "code",
   "execution_count": 39,
   "metadata": {
    "execution": {
     "iopub.execute_input": "2024-08-26T04:07:25.687585Z",
     "iopub.status.busy": "2024-08-26T04:07:25.686774Z",
     "iopub.status.idle": "2024-08-26T04:07:25.698616Z",
     "shell.execute_reply": "2024-08-26T04:07:25.697381Z",
     "shell.execute_reply.started": "2024-08-26T04:07:25.687532Z"
    },
    "trusted": true
   },
   "outputs": [
    {
     "name": "stderr",
     "output_type": "stream",
     "text": [
      "/tmp/ipykernel_36/2589960791.py:15: DeprecationWarning: Conversion of an array with ndim > 0 to a scalar is deprecated, and will error in future. Ensure you extract a single element from your array before performing this operation. (Deprecated NumPy 1.25.)\n",
      "  sorted_labels[j][ele] = int(dict[dist_list[ele]])\n"
     ]
    }
   ],
   "source": [
    "prediction = predict(x_test, x_train, y_train, 3, pairwise_3)"
   ]
  },
  {
   "cell_type": "code",
   "execution_count": 40,
   "metadata": {
    "execution": {
     "iopub.execute_input": "2024-08-26T04:07:25.700684Z",
     "iopub.status.busy": "2024-08-26T04:07:25.700111Z",
     "iopub.status.idle": "2024-08-26T04:07:25.710878Z",
     "shell.execute_reply": "2024-08-26T04:07:25.709448Z",
     "shell.execute_reply.started": "2024-08-26T04:07:25.700624Z"
    },
    "trusted": true
   },
   "outputs": [
    {
     "name": "stdout",
     "output_type": "stream",
     "text": [
      "[1, 1]\n"
     ]
    }
   ],
   "source": [
    "print(prediction)"
   ]
  },
  {
   "cell_type": "code",
   "execution_count": 41,
   "metadata": {
    "execution": {
     "iopub.execute_input": "2024-08-26T04:07:25.713197Z",
     "iopub.status.busy": "2024-08-26T04:07:25.712452Z",
     "iopub.status.idle": "2024-08-26T04:07:25.723356Z",
     "shell.execute_reply": "2024-08-26T04:07:25.722052Z",
     "shell.execute_reply.started": "2024-08-26T04:07:25.713135Z"
    },
    "trusted": true
   },
   "outputs": [
    {
     "name": "stdout",
     "output_type": "stream",
     "text": [
      "[1, 1]\n"
     ]
    }
   ],
   "source": [
    "print(prediction)"
   ]
  },
  {
   "cell_type": "markdown",
   "metadata": {},
   "source": [
    "# Lab 3 - KNN"
   ]
  },
  {
   "cell_type": "code",
   "execution_count": 42,
   "metadata": {
    "execution": {
     "iopub.execute_input": "2024-08-26T04:08:26.368396Z",
     "iopub.status.busy": "2024-08-26T04:08:26.367269Z",
     "iopub.status.idle": "2024-08-26T04:08:26.776519Z",
     "shell.execute_reply": "2024-08-26T04:08:26.775244Z",
     "shell.execute_reply.started": "2024-08-26T04:08:26.368316Z"
    },
    "trusted": true
   },
   "outputs": [],
   "source": [
    "import pandas as pd"
   ]
  },
  {
   "cell_type": "markdown",
   "metadata": {},
   "source": [
    "## Question 1"
   ]
  },
  {
   "cell_type": "markdown",
   "metadata": {},
   "source": [
    "## Loading the data and the labels "
   ]
  },
  {
   "cell_type": "code",
   "execution_count": 64,
   "metadata": {
    "execution": {
     "iopub.execute_input": "2024-08-26T04:24:22.524187Z",
     "iopub.status.busy": "2024-08-26T04:24:22.523676Z",
     "iopub.status.idle": "2024-08-26T04:24:22.541958Z",
     "shell.execute_reply": "2024-08-26T04:24:22.540824Z",
     "shell.execute_reply.started": "2024-08-26T04:24:22.524140Z"
    },
    "trusted": true
   },
   "outputs": [],
   "source": [
    "data = np.loadtxt(\"/kaggle/input/knn-data/data.csv\", delimiter = \",\", dtype = float)\n",
    "labels = np.loadtxt(\"/kaggle/input/knn-data/labels.csv\", delimiter = \",\", dtype = float)"
   ]
  },
  {
   "cell_type": "code",
   "execution_count": 65,
   "metadata": {
    "execution": {
     "iopub.execute_input": "2024-08-26T04:24:23.424214Z",
     "iopub.status.busy": "2024-08-26T04:24:23.423077Z",
     "iopub.status.idle": "2024-08-26T04:24:23.441297Z",
     "shell.execute_reply": "2024-08-26T04:24:23.439972Z",
     "shell.execute_reply.started": "2024-08-26T04:24:23.424147Z"
    },
    "trusted": true
   },
   "outputs": [
    {
     "data": {
      "text/plain": [
       "array([[  0. ,   1. ,   2. ,   3. ],\n",
       "       [670. ,   3.1,   4.4,  71.4],\n",
       "       [510. ,   3.8,   1.6,  10.2],\n",
       "       [570. ,   2.8,   4.1,  66.3],\n",
       "       [580. ,   2.7,   5.1,  96.9],\n",
       "       [460. ,   3.2,   1.4,  10.2],\n",
       "       [670. ,   3.1,   4.7,  76.5],\n",
       "       [470. ,   3.2,   1.3,  10.2],\n",
       "       [480. ,   3. ,   1.4,  15.3],\n",
       "       [600. ,   2.7,   5.1,  81.6],\n",
       "       [620. ,   2.9,   4.3,  66.3],\n",
       "       [510. ,   3.3,   1.7,  25.5],\n",
       "       [620. ,   3.4,   5.4, 117.3],\n",
       "       [720. ,   3.6,   6.1, 127.5],\n",
       "       [480. ,   3.1,   1.6,  10.2],\n",
       "       [770. ,   3. ,   6.1, 117.3],\n",
       "       [480. ,   3. ,   1.4,   5.1],\n",
       "       [510. ,   2.5,   3. ,  56.1],\n",
       "       [510. ,   3.7,   1.5,  20.4],\n",
       "       [560. ,   3. ,   4.5,  76.5],\n",
       "       [500. ,   3. ,   1.6,  10.2],\n",
       "       [590. ,   3. ,   5.1,  91.8],\n",
       "       [490. ,   2.5,   4.5,  86.7],\n",
       "       [680. ,   2.8,   4.8,  71.4],\n",
       "       [580. ,   2.7,   3.9,  61.2],\n",
       "       [500. ,   3.6,   1.4,  10.2],\n",
       "       [690. ,   3.1,   5.1, 117.3],\n",
       "       [500. ,   3.5,   1.3,  15.3],\n",
       "       [500. ,   2.3,   3.3,  51. ],\n",
       "       [560. ,   3. ,   4.1,  66.3],\n",
       "       [550. ,   2.5,   4. ,  66.3],\n",
       "       [770. ,   2.8,   6.7, 102. ],\n",
       "       [720. ,   3. ,   5.8,  81.6],\n",
       "       [510. ,   3.4,   1.5,  10.2],\n",
       "       [600. ,   2.2,   4. ,  51. ],\n",
       "       [540. ,   3. ,   4.5,  76.5],\n",
       "       [790. ,   3.8,   6.4, 102. ],\n",
       "       [690. ,   3.1,   5.4, 107.1],\n",
       "       [540. ,   3.4,   1.7,  10.2],\n",
       "       [500. ,   2. ,   3.5,  51. ],\n",
       "       [680. ,   3.2,   5.9, 117.3],\n",
       "       [670. ,   3.3,   5.7, 127.5],\n",
       "       [610. ,   3. ,   4.9,  91.8],\n",
       "       [440. ,   2.9,   1.4,  10.2],\n",
       "       [510. ,   3.5,   1.4,  10.2],\n",
       "       [640. ,   2.7,   5.3,  96.9],\n",
       "       [670. ,   3. ,   5.2, 117.3],\n",
       "       [620. ,   2.8,   4.8,  91.8],\n",
       "       [540. ,   3.9,   1.7,  20.4],\n",
       "       [680. ,   3. ,   5.5, 107.1],\n",
       "       [640. ,   3.1,   5.5,  91.8],\n",
       "       [570. ,   2.5,   5. , 102. ],\n",
       "       [670. ,   3. ,   5. ,  86.7],\n",
       "       [640. ,   2.8,   5.6, 107.1],\n",
       "       [670. ,   2.5,   5.8,  91.8],\n",
       "       [520. ,   4.1,   1.5,   5.1],\n",
       "       [710. ,   3. ,   5.9, 107.1],\n",
       "       [590. ,   3. ,   4.2,  76.5],\n",
       "       [570. ,   2.9,   4.2,  66.3],\n",
       "       [560. ,   2.5,   3.9,  56.1],\n",
       "       [610. ,   2.8,   4.7,  61.2],\n",
       "       [560. ,   2.9,   3.6,  66.3],\n",
       "       [550. ,   3.5,   1.3,  10.2],\n",
       "       [640. ,   2.8,   5.6, 112.2],\n",
       "       [460. ,   3.6,   1. ,  10.2],\n",
       "       [770. ,   3.8,   6.7, 112.2],\n",
       "       [660. ,   2.9,   4.6,  66.3],\n",
       "       [570. ,   3.8,   1.7,  15.3],\n",
       "       [580. ,   2.6,   4. ,  61.2],\n",
       "       [650. ,   3. ,   5.2, 102. ],\n",
       "       [630. ,   2.9,   5.6,  91.8],\n",
       "       [660. ,   3. ,   4.4,  71.4],\n",
       "       [610. ,   2.8,   4. ,  66.3],\n",
       "       [500. ,   3.3,   1.4,  10.2],\n",
       "       [570. ,   2.6,   3.5,  51. ],\n",
       "       [770. ,   2.6,   6.9, 117.3],\n",
       "       [540. ,   3.7,   1.5,  10.2],\n",
       "       [670. ,   3.3,   5.7, 107.1],\n",
       "       [480. ,   3.4,   1.6,  10.2],\n",
       "       [510. ,   3.5,   1.4,  15.3],\n",
       "       [450. ,   2.3,   1.3,  15.3],\n",
       "       [740. ,   2.8,   6.1,  96.9],\n",
       "       [460. ,   3.4,   1.4,  15.3],\n",
       "       [540. ,   3.9,   1.3,  20.4],\n",
       "       [600. ,   3. ,   4.8,  91.8],\n",
       "       [520. ,   2.7,   3.9,  71.4],\n",
       "       [640. ,   2.9,   4.3,  66.3],\n",
       "       [630. ,   3.3,   6. , 127.5],\n",
       "       [500. ,   3.5,   1.6,  30.6],\n",
       "       [560. ,   2.7,   4.2,  66.3],\n",
       "       [580. ,   2.7,   4.1,  51. ],\n",
       "       [610. ,   2.9,   4.7,  71.4],\n",
       "       [610. ,   3. ,   4.6,  71.4],\n",
       "       [440. ,   3.2,   1.3,  10.2],\n",
       "       [690. ,   3.1,   4.9,  76.5],\n",
       "       [430. ,   3. ,   1.1,   5.1],\n",
       "       [490. ,   3.1,   1.5,  10.2],\n",
       "       [490. ,   3.6,   1.4,   5.1],\n",
       "       [650. ,   3.2,   5.1, 102. ],\n",
       "       [590. ,   3.2,   4.8,  91.8],\n",
       "       [490. ,   2.4,   3.3,  51. ],\n",
       "       [550. ,   2.3,   4. ,  66.3],\n",
       "       [600. ,   3.4,   4.5,  81.6],\n",
       "       [530. ,   3.7,   1.5,  10.2],\n",
       "       [550. ,   2.4,   3.7,  51. ],\n",
       "       [700. ,   3.2,   4.7,  71.4],\n",
       "       [520. ,   3.4,   1.4,  10.2],\n",
       "       [650. ,   3. ,   5.5,  91.8],\n",
       "       [630. ,   3.3,   4.7,  81.6],\n",
       "       [730. ,   2.9,   6.3,  91.8],\n",
       "       [500. ,   3.4,   1.5,  10.2],\n",
       "       [760. ,   3. ,   6.6, 107.1],\n",
       "       [510. ,   3.8,   1.5,  15.3],\n",
       "       [720. ,   3.2,   6. ,  91.8],\n",
       "       [620. ,   2.2,   4.5,  76.5],\n",
       "       [610. ,   2.6,   5.6,  71.4],\n",
       "       [540. ,   3.4,   1.5,  20.4],\n",
       "       [480. ,   3.4,   1.9,  10.2],\n",
       "       [560. ,   2.8,   4.9, 102. ],\n",
       "       [490. ,   3.1,   1.5,   5.1],\n",
       "       [500. ,   3.4,   1.6,  20.4],\n",
       "       [550. ,   4.2,   1.4,  10.2],\n",
       "       [630. ,   2.5,   4.9,  76.5],\n",
       "       [630. ,   3.4,   5.6, 122.4],\n",
       "       [510. ,   3.8,   1.9,  20.4],\n",
       "       [570. ,   3. ,   4.2,  61.2],\n",
       "       [630. ,   2.7,   4.9,  91.8],\n",
       "       [670. ,   3.1,   5.6, 122.4],\n",
       "       [630. ,   2.5,   5. ,  96.9],\n",
       "       [580. ,   2.7,   5.1,  96.9],\n",
       "       [640. ,   3.2,   5.3, 117.3],\n",
       "       [550. ,   2.6,   4.4,  61.2],\n",
       "       [470. ,   3.2,   1.6,  10.2],\n",
       "       [600. ,   2.9,   4.5,  76.5],\n",
       "       [490. ,   3. ,   1.4,  10.2],\n",
       "       [460. ,   3.1,   1.5,  10.2],\n",
       "       [650. ,   2.8,   4.6,  76.5],\n",
       "       [650. ,   3. ,   5.8, 112.2],\n",
       "       [630. ,   2.3,   4.4,  66.3],\n",
       "       [570. ,   2.8,   4.5,  66.3],\n",
       "       [520. ,   3.5,   1.5,  10.2],\n",
       "       [580. ,   4. ,   1.2,  10.2],\n",
       "       [640. ,   3.2,   4.5,  76.5],\n",
       "       [500. ,   3.2,   1.2,  10.2],\n",
       "       [550. ,   2.4,   3.8,  56.1],\n",
       "       [630. ,   2.8,   5.1,  76.5]])"
      ]
     },
     "execution_count": 65,
     "metadata": {},
     "output_type": "execute_result"
    }
   ],
   "source": [
    "data"
   ]
  },
  {
   "cell_type": "code",
   "execution_count": 72,
   "metadata": {
    "execution": {
     "iopub.execute_input": "2024-08-26T04:27:13.839964Z",
     "iopub.status.busy": "2024-08-26T04:27:13.839538Z",
     "iopub.status.idle": "2024-08-26T04:27:13.854911Z",
     "shell.execute_reply": "2024-08-26T04:27:13.853785Z",
     "shell.execute_reply.started": "2024-08-26T04:27:13.839920Z"
    },
    "trusted": true
   },
   "outputs": [
    {
     "data": {
      "text/plain": [
       "array([[670. ,   3.1,   4.4,  71.4],\n",
       "       [510. ,   3.8,   1.6,  10.2],\n",
       "       [570. ,   2.8,   4.1,  66.3],\n",
       "       [580. ,   2.7,   5.1,  96.9],\n",
       "       [460. ,   3.2,   1.4,  10.2],\n",
       "       [670. ,   3.1,   4.7,  76.5],\n",
       "       [470. ,   3.2,   1.3,  10.2],\n",
       "       [480. ,   3. ,   1.4,  15.3],\n",
       "       [600. ,   2.7,   5.1,  81.6],\n",
       "       [620. ,   2.9,   4.3,  66.3],\n",
       "       [510. ,   3.3,   1.7,  25.5],\n",
       "       [620. ,   3.4,   5.4, 117.3],\n",
       "       [720. ,   3.6,   6.1, 127.5],\n",
       "       [480. ,   3.1,   1.6,  10.2],\n",
       "       [770. ,   3. ,   6.1, 117.3],\n",
       "       [480. ,   3. ,   1.4,   5.1],\n",
       "       [510. ,   2.5,   3. ,  56.1],\n",
       "       [510. ,   3.7,   1.5,  20.4],\n",
       "       [560. ,   3. ,   4.5,  76.5],\n",
       "       [500. ,   3. ,   1.6,  10.2],\n",
       "       [590. ,   3. ,   5.1,  91.8],\n",
       "       [490. ,   2.5,   4.5,  86.7],\n",
       "       [680. ,   2.8,   4.8,  71.4],\n",
       "       [580. ,   2.7,   3.9,  61.2],\n",
       "       [500. ,   3.6,   1.4,  10.2],\n",
       "       [690. ,   3.1,   5.1, 117.3],\n",
       "       [500. ,   3.5,   1.3,  15.3],\n",
       "       [500. ,   2.3,   3.3,  51. ],\n",
       "       [560. ,   3. ,   4.1,  66.3],\n",
       "       [550. ,   2.5,   4. ,  66.3],\n",
       "       [770. ,   2.8,   6.7, 102. ],\n",
       "       [720. ,   3. ,   5.8,  81.6],\n",
       "       [510. ,   3.4,   1.5,  10.2],\n",
       "       [600. ,   2.2,   4. ,  51. ],\n",
       "       [540. ,   3. ,   4.5,  76.5],\n",
       "       [790. ,   3.8,   6.4, 102. ],\n",
       "       [690. ,   3.1,   5.4, 107.1],\n",
       "       [540. ,   3.4,   1.7,  10.2],\n",
       "       [500. ,   2. ,   3.5,  51. ],\n",
       "       [680. ,   3.2,   5.9, 117.3],\n",
       "       [670. ,   3.3,   5.7, 127.5],\n",
       "       [610. ,   3. ,   4.9,  91.8],\n",
       "       [440. ,   2.9,   1.4,  10.2],\n",
       "       [510. ,   3.5,   1.4,  10.2],\n",
       "       [640. ,   2.7,   5.3,  96.9],\n",
       "       [670. ,   3. ,   5.2, 117.3],\n",
       "       [620. ,   2.8,   4.8,  91.8],\n",
       "       [540. ,   3.9,   1.7,  20.4],\n",
       "       [680. ,   3. ,   5.5, 107.1],\n",
       "       [640. ,   3.1,   5.5,  91.8],\n",
       "       [570. ,   2.5,   5. , 102. ],\n",
       "       [670. ,   3. ,   5. ,  86.7],\n",
       "       [640. ,   2.8,   5.6, 107.1],\n",
       "       [670. ,   2.5,   5.8,  91.8],\n",
       "       [520. ,   4.1,   1.5,   5.1],\n",
       "       [710. ,   3. ,   5.9, 107.1],\n",
       "       [590. ,   3. ,   4.2,  76.5],\n",
       "       [570. ,   2.9,   4.2,  66.3],\n",
       "       [560. ,   2.5,   3.9,  56.1],\n",
       "       [610. ,   2.8,   4.7,  61.2],\n",
       "       [560. ,   2.9,   3.6,  66.3],\n",
       "       [550. ,   3.5,   1.3,  10.2],\n",
       "       [640. ,   2.8,   5.6, 112.2],\n",
       "       [460. ,   3.6,   1. ,  10.2],\n",
       "       [770. ,   3.8,   6.7, 112.2],\n",
       "       [660. ,   2.9,   4.6,  66.3],\n",
       "       [570. ,   3.8,   1.7,  15.3],\n",
       "       [580. ,   2.6,   4. ,  61.2],\n",
       "       [650. ,   3. ,   5.2, 102. ],\n",
       "       [630. ,   2.9,   5.6,  91.8],\n",
       "       [660. ,   3. ,   4.4,  71.4],\n",
       "       [610. ,   2.8,   4. ,  66.3],\n",
       "       [500. ,   3.3,   1.4,  10.2],\n",
       "       [570. ,   2.6,   3.5,  51. ],\n",
       "       [770. ,   2.6,   6.9, 117.3],\n",
       "       [540. ,   3.7,   1.5,  10.2],\n",
       "       [670. ,   3.3,   5.7, 107.1],\n",
       "       [480. ,   3.4,   1.6,  10.2],\n",
       "       [510. ,   3.5,   1.4,  15.3],\n",
       "       [450. ,   2.3,   1.3,  15.3],\n",
       "       [740. ,   2.8,   6.1,  96.9],\n",
       "       [460. ,   3.4,   1.4,  15.3],\n",
       "       [540. ,   3.9,   1.3,  20.4],\n",
       "       [600. ,   3. ,   4.8,  91.8],\n",
       "       [520. ,   2.7,   3.9,  71.4],\n",
       "       [640. ,   2.9,   4.3,  66.3],\n",
       "       [630. ,   3.3,   6. , 127.5],\n",
       "       [500. ,   3.5,   1.6,  30.6],\n",
       "       [560. ,   2.7,   4.2,  66.3],\n",
       "       [580. ,   2.7,   4.1,  51. ],\n",
       "       [610. ,   2.9,   4.7,  71.4],\n",
       "       [610. ,   3. ,   4.6,  71.4],\n",
       "       [440. ,   3.2,   1.3,  10.2],\n",
       "       [690. ,   3.1,   4.9,  76.5],\n",
       "       [430. ,   3. ,   1.1,   5.1],\n",
       "       [490. ,   3.1,   1.5,  10.2],\n",
       "       [490. ,   3.6,   1.4,   5.1],\n",
       "       [650. ,   3.2,   5.1, 102. ],\n",
       "       [590. ,   3.2,   4.8,  91.8],\n",
       "       [490. ,   2.4,   3.3,  51. ],\n",
       "       [550. ,   2.3,   4. ,  66.3],\n",
       "       [600. ,   3.4,   4.5,  81.6],\n",
       "       [530. ,   3.7,   1.5,  10.2],\n",
       "       [550. ,   2.4,   3.7,  51. ],\n",
       "       [700. ,   3.2,   4.7,  71.4],\n",
       "       [520. ,   3.4,   1.4,  10.2],\n",
       "       [650. ,   3. ,   5.5,  91.8],\n",
       "       [630. ,   3.3,   4.7,  81.6],\n",
       "       [730. ,   2.9,   6.3,  91.8],\n",
       "       [500. ,   3.4,   1.5,  10.2],\n",
       "       [760. ,   3. ,   6.6, 107.1],\n",
       "       [510. ,   3.8,   1.5,  15.3],\n",
       "       [720. ,   3.2,   6. ,  91.8],\n",
       "       [620. ,   2.2,   4.5,  76.5],\n",
       "       [610. ,   2.6,   5.6,  71.4],\n",
       "       [540. ,   3.4,   1.5,  20.4],\n",
       "       [480. ,   3.4,   1.9,  10.2],\n",
       "       [560. ,   2.8,   4.9, 102. ],\n",
       "       [490. ,   3.1,   1.5,   5.1],\n",
       "       [500. ,   3.4,   1.6,  20.4],\n",
       "       [550. ,   4.2,   1.4,  10.2],\n",
       "       [630. ,   2.5,   4.9,  76.5],\n",
       "       [630. ,   3.4,   5.6, 122.4],\n",
       "       [510. ,   3.8,   1.9,  20.4],\n",
       "       [570. ,   3. ,   4.2,  61.2],\n",
       "       [630. ,   2.7,   4.9,  91.8],\n",
       "       [670. ,   3.1,   5.6, 122.4],\n",
       "       [630. ,   2.5,   5. ,  96.9],\n",
       "       [580. ,   2.7,   5.1,  96.9],\n",
       "       [640. ,   3.2,   5.3, 117.3],\n",
       "       [550. ,   2.6,   4.4,  61.2],\n",
       "       [470. ,   3.2,   1.6,  10.2],\n",
       "       [600. ,   2.9,   4.5,  76.5],\n",
       "       [490. ,   3. ,   1.4,  10.2],\n",
       "       [460. ,   3.1,   1.5,  10.2],\n",
       "       [650. ,   2.8,   4.6,  76.5],\n",
       "       [650. ,   3. ,   5.8, 112.2],\n",
       "       [630. ,   2.3,   4.4,  66.3],\n",
       "       [570. ,   2.8,   4.5,  66.3],\n",
       "       [520. ,   3.5,   1.5,  10.2],\n",
       "       [580. ,   4. ,   1.2,  10.2],\n",
       "       [640. ,   3.2,   4.5,  76.5],\n",
       "       [500. ,   3.2,   1.2,  10.2],\n",
       "       [550. ,   2.4,   3.8,  56.1],\n",
       "       [630. ,   2.8,   5.1,  76.5]])"
      ]
     },
     "execution_count": 72,
     "metadata": {},
     "output_type": "execute_result"
    }
   ],
   "source": [
    "data_n = data[1:]\n",
    "data_n"
   ]
  },
  {
   "cell_type": "code",
   "execution_count": 73,
   "metadata": {
    "execution": {
     "iopub.execute_input": "2024-08-26T04:27:28.976118Z",
     "iopub.status.busy": "2024-08-26T04:27:28.975680Z",
     "iopub.status.idle": "2024-08-26T04:27:28.985473Z",
     "shell.execute_reply": "2024-08-26T04:27:28.983410Z",
     "shell.execute_reply.started": "2024-08-26T04:27:28.976074Z"
    },
    "trusted": true
   },
   "outputs": [
    {
     "data": {
      "text/plain": [
       "array([0., 1., 2., 3.])"
      ]
     },
     "execution_count": 73,
     "metadata": {},
     "output_type": "execute_result"
    }
   ],
   "source": [
    "col_names = data[0]\n",
    "col_names"
   ]
  },
  {
   "cell_type": "code",
   "execution_count": 46,
   "metadata": {
    "execution": {
     "iopub.execute_input": "2024-08-26T04:09:36.178082Z",
     "iopub.status.busy": "2024-08-26T04:09:36.177589Z",
     "iopub.status.idle": "2024-08-26T04:09:36.185880Z",
     "shell.execute_reply": "2024-08-26T04:09:36.184251Z",
     "shell.execute_reply.started": "2024-08-26T04:09:36.178039Z"
    },
    "trusted": true
   },
   "outputs": [
    {
     "data": {
      "text/plain": [
       "(145, 4)"
      ]
     },
     "execution_count": 46,
     "metadata": {},
     "output_type": "execute_result"
    }
   ],
   "source": [
    "data.shape"
   ]
  },
  {
   "cell_type": "code",
   "execution_count": 66,
   "metadata": {
    "execution": {
     "iopub.execute_input": "2024-08-26T04:25:08.777684Z",
     "iopub.status.busy": "2024-08-26T04:25:08.777237Z",
     "iopub.status.idle": "2024-08-26T04:25:08.786589Z",
     "shell.execute_reply": "2024-08-26T04:25:08.785449Z",
     "shell.execute_reply.started": "2024-08-26T04:25:08.777643Z"
    },
    "trusted": true
   },
   "outputs": [
    {
     "data": {
      "text/plain": [
       "array([0., 1., 0., 1., 2., 0., 1., 0., 0., 1., 1., 0., 2., 2., 0., 2., 0.,\n",
       "       1., 0., 1., 0., 2., 2., 1., 1., 0., 2., 0., 1., 1., 1., 2., 2., 0.,\n",
       "       1., 1., 2., 2., 0., 1., 2., 2., 2., 0., 0., 2., 2., 2., 0., 2., 2.,\n",
       "       2., 1., 2., 2., 0., 2., 1., 1., 1., 1., 1., 0., 2., 0., 2., 1., 0.,\n",
       "       1., 2., 2., 1., 1., 0., 1., 2., 0., 2., 0., 0., 0., 2., 0., 0., 2.,\n",
       "       1., 1., 2., 0., 1., 1., 1., 1., 0., 1., 0., 0., 0., 2., 1., 1., 1.,\n",
       "       1., 0., 1., 1., 0., 2., 1., 2., 0., 2., 0., 2., 1., 2., 0., 0., 2.,\n",
       "       0., 0., 0., 1., 2., 0., 1., 2., 2., 2., 2., 2., 1., 0., 1., 0., 0.,\n",
       "       1., 2., 1., 1., 0., 0., 1., 0., 1., 2.])"
      ]
     },
     "execution_count": 66,
     "metadata": {},
     "output_type": "execute_result"
    }
   ],
   "source": [
    "labels"
   ]
  },
  {
   "cell_type": "markdown",
   "metadata": {},
   "source": [
    "## a)"
   ]
  },
  {
   "cell_type": "markdown",
   "metadata": {},
   "source": [
    "## Splitting the data into train, test and validation sets"
   ]
  },
  {
   "cell_type": "code",
   "execution_count": 74,
   "metadata": {
    "execution": {
     "iopub.execute_input": "2024-08-26T04:28:03.599263Z",
     "iopub.status.busy": "2024-08-26T04:28:03.598247Z",
     "iopub.status.idle": "2024-08-26T04:28:03.606514Z",
     "shell.execute_reply": "2024-08-26T04:28:03.605118Z",
     "shell.execute_reply.started": "2024-08-26T04:28:03.599207Z"
    },
    "trusted": true
   },
   "outputs": [],
   "source": [
    "train_length = (data_n.shape[0]) * 0.6\n",
    "valid_length = (data_n.shape[0])* 0.2\n",
    "test_length = (data_n.shape[0])* 0.2"
   ]
  },
  {
   "cell_type": "code",
   "execution_count": 75,
   "metadata": {
    "execution": {
     "iopub.execute_input": "2024-08-26T04:28:05.745533Z",
     "iopub.status.busy": "2024-08-26T04:28:05.745041Z",
     "iopub.status.idle": "2024-08-26T04:28:05.752785Z",
     "shell.execute_reply": "2024-08-26T04:28:05.751591Z",
     "shell.execute_reply.started": "2024-08-26T04:28:05.745488Z"
    },
    "trusted": true
   },
   "outputs": [
    {
     "data": {
      "text/plain": [
       "(87.0, 29.0, 29.0)"
      ]
     },
     "execution_count": 75,
     "metadata": {},
     "output_type": "execute_result"
    }
   ],
   "source": [
    "train_length, valid_length, test_length"
   ]
  },
  {
   "cell_type": "code",
   "execution_count": 77,
   "metadata": {
    "execution": {
     "iopub.execute_input": "2024-08-26T04:28:14.246009Z",
     "iopub.status.busy": "2024-08-26T04:28:14.245553Z",
     "iopub.status.idle": "2024-08-26T04:28:14.261099Z",
     "shell.execute_reply": "2024-08-26T04:28:14.259902Z",
     "shell.execute_reply.started": "2024-08-26T04:28:14.245966Z"
    },
    "trusted": true
   },
   "outputs": [
    {
     "data": {
      "text/plain": [
       "array([[670. ,   3.1,   4.4,  71.4],\n",
       "       [510. ,   3.8,   1.6,  10.2],\n",
       "       [570. ,   2.8,   4.1,  66.3],\n",
       "       [580. ,   2.7,   5.1,  96.9],\n",
       "       [460. ,   3.2,   1.4,  10.2],\n",
       "       [670. ,   3.1,   4.7,  76.5],\n",
       "       [470. ,   3.2,   1.3,  10.2],\n",
       "       [480. ,   3. ,   1.4,  15.3],\n",
       "       [600. ,   2.7,   5.1,  81.6],\n",
       "       [620. ,   2.9,   4.3,  66.3],\n",
       "       [510. ,   3.3,   1.7,  25.5],\n",
       "       [620. ,   3.4,   5.4, 117.3],\n",
       "       [720. ,   3.6,   6.1, 127.5],\n",
       "       [480. ,   3.1,   1.6,  10.2],\n",
       "       [770. ,   3. ,   6.1, 117.3],\n",
       "       [480. ,   3. ,   1.4,   5.1],\n",
       "       [510. ,   2.5,   3. ,  56.1],\n",
       "       [510. ,   3.7,   1.5,  20.4],\n",
       "       [560. ,   3. ,   4.5,  76.5],\n",
       "       [500. ,   3. ,   1.6,  10.2],\n",
       "       [590. ,   3. ,   5.1,  91.8],\n",
       "       [490. ,   2.5,   4.5,  86.7],\n",
       "       [680. ,   2.8,   4.8,  71.4],\n",
       "       [580. ,   2.7,   3.9,  61.2],\n",
       "       [500. ,   3.6,   1.4,  10.2],\n",
       "       [690. ,   3.1,   5.1, 117.3],\n",
       "       [500. ,   3.5,   1.3,  15.3],\n",
       "       [500. ,   2.3,   3.3,  51. ],\n",
       "       [560. ,   3. ,   4.1,  66.3],\n",
       "       [550. ,   2.5,   4. ,  66.3],\n",
       "       [770. ,   2.8,   6.7, 102. ],\n",
       "       [720. ,   3. ,   5.8,  81.6],\n",
       "       [510. ,   3.4,   1.5,  10.2],\n",
       "       [600. ,   2.2,   4. ,  51. ],\n",
       "       [540. ,   3. ,   4.5,  76.5],\n",
       "       [790. ,   3.8,   6.4, 102. ],\n",
       "       [690. ,   3.1,   5.4, 107.1],\n",
       "       [540. ,   3.4,   1.7,  10.2],\n",
       "       [500. ,   2. ,   3.5,  51. ],\n",
       "       [680. ,   3.2,   5.9, 117.3],\n",
       "       [670. ,   3.3,   5.7, 127.5],\n",
       "       [610. ,   3. ,   4.9,  91.8],\n",
       "       [440. ,   2.9,   1.4,  10.2],\n",
       "       [510. ,   3.5,   1.4,  10.2],\n",
       "       [640. ,   2.7,   5.3,  96.9],\n",
       "       [670. ,   3. ,   5.2, 117.3],\n",
       "       [620. ,   2.8,   4.8,  91.8],\n",
       "       [540. ,   3.9,   1.7,  20.4],\n",
       "       [680. ,   3. ,   5.5, 107.1],\n",
       "       [640. ,   3.1,   5.5,  91.8],\n",
       "       [570. ,   2.5,   5. , 102. ],\n",
       "       [670. ,   3. ,   5. ,  86.7],\n",
       "       [640. ,   2.8,   5.6, 107.1],\n",
       "       [670. ,   2.5,   5.8,  91.8],\n",
       "       [520. ,   4.1,   1.5,   5.1],\n",
       "       [710. ,   3. ,   5.9, 107.1],\n",
       "       [590. ,   3. ,   4.2,  76.5],\n",
       "       [570. ,   2.9,   4.2,  66.3],\n",
       "       [560. ,   2.5,   3.9,  56.1],\n",
       "       [610. ,   2.8,   4.7,  61.2],\n",
       "       [560. ,   2.9,   3.6,  66.3],\n",
       "       [550. ,   3.5,   1.3,  10.2],\n",
       "       [640. ,   2.8,   5.6, 112.2],\n",
       "       [460. ,   3.6,   1. ,  10.2],\n",
       "       [770. ,   3.8,   6.7, 112.2],\n",
       "       [660. ,   2.9,   4.6,  66.3],\n",
       "       [570. ,   3.8,   1.7,  15.3],\n",
       "       [580. ,   2.6,   4. ,  61.2],\n",
       "       [650. ,   3. ,   5.2, 102. ],\n",
       "       [630. ,   2.9,   5.6,  91.8],\n",
       "       [660. ,   3. ,   4.4,  71.4],\n",
       "       [610. ,   2.8,   4. ,  66.3],\n",
       "       [500. ,   3.3,   1.4,  10.2],\n",
       "       [570. ,   2.6,   3.5,  51. ],\n",
       "       [770. ,   2.6,   6.9, 117.3],\n",
       "       [540. ,   3.7,   1.5,  10.2],\n",
       "       [670. ,   3.3,   5.7, 107.1],\n",
       "       [480. ,   3.4,   1.6,  10.2],\n",
       "       [510. ,   3.5,   1.4,  15.3],\n",
       "       [450. ,   2.3,   1.3,  15.3],\n",
       "       [740. ,   2.8,   6.1,  96.9],\n",
       "       [460. ,   3.4,   1.4,  15.3],\n",
       "       [540. ,   3.9,   1.3,  20.4],\n",
       "       [600. ,   3. ,   4.8,  91.8],\n",
       "       [520. ,   2.7,   3.9,  71.4],\n",
       "       [640. ,   2.9,   4.3,  66.3],\n",
       "       [630. ,   3.3,   6. , 127.5],\n",
       "       [500. ,   3.5,   1.6,  30.6],\n",
       "       [560. ,   2.7,   4.2,  66.3],\n",
       "       [580. ,   2.7,   4.1,  51. ],\n",
       "       [610. ,   2.9,   4.7,  71.4],\n",
       "       [610. ,   3. ,   4.6,  71.4],\n",
       "       [440. ,   3.2,   1.3,  10.2],\n",
       "       [690. ,   3.1,   4.9,  76.5],\n",
       "       [430. ,   3. ,   1.1,   5.1],\n",
       "       [490. ,   3.1,   1.5,  10.2],\n",
       "       [490. ,   3.6,   1.4,   5.1],\n",
       "       [650. ,   3.2,   5.1, 102. ],\n",
       "       [590. ,   3.2,   4.8,  91.8],\n",
       "       [490. ,   2.4,   3.3,  51. ],\n",
       "       [550. ,   2.3,   4. ,  66.3],\n",
       "       [600. ,   3.4,   4.5,  81.6],\n",
       "       [530. ,   3.7,   1.5,  10.2],\n",
       "       [550. ,   2.4,   3.7,  51. ],\n",
       "       [700. ,   3.2,   4.7,  71.4],\n",
       "       [520. ,   3.4,   1.4,  10.2],\n",
       "       [650. ,   3. ,   5.5,  91.8],\n",
       "       [630. ,   3.3,   4.7,  81.6],\n",
       "       [730. ,   2.9,   6.3,  91.8],\n",
       "       [500. ,   3.4,   1.5,  10.2],\n",
       "       [760. ,   3. ,   6.6, 107.1],\n",
       "       [510. ,   3.8,   1.5,  15.3],\n",
       "       [720. ,   3.2,   6. ,  91.8],\n",
       "       [620. ,   2.2,   4.5,  76.5],\n",
       "       [610. ,   2.6,   5.6,  71.4],\n",
       "       [540. ,   3.4,   1.5,  20.4],\n",
       "       [480. ,   3.4,   1.9,  10.2],\n",
       "       [560. ,   2.8,   4.9, 102. ],\n",
       "       [490. ,   3.1,   1.5,   5.1],\n",
       "       [500. ,   3.4,   1.6,  20.4],\n",
       "       [550. ,   4.2,   1.4,  10.2],\n",
       "       [630. ,   2.5,   4.9,  76.5],\n",
       "       [630. ,   3.4,   5.6, 122.4],\n",
       "       [510. ,   3.8,   1.9,  20.4],\n",
       "       [570. ,   3. ,   4.2,  61.2],\n",
       "       [630. ,   2.7,   4.9,  91.8],\n",
       "       [670. ,   3.1,   5.6, 122.4],\n",
       "       [630. ,   2.5,   5. ,  96.9],\n",
       "       [580. ,   2.7,   5.1,  96.9],\n",
       "       [640. ,   3.2,   5.3, 117.3],\n",
       "       [550. ,   2.6,   4.4,  61.2],\n",
       "       [470. ,   3.2,   1.6,  10.2],\n",
       "       [600. ,   2.9,   4.5,  76.5],\n",
       "       [490. ,   3. ,   1.4,  10.2],\n",
       "       [460. ,   3.1,   1.5,  10.2],\n",
       "       [650. ,   2.8,   4.6,  76.5],\n",
       "       [650. ,   3. ,   5.8, 112.2],\n",
       "       [630. ,   2.3,   4.4,  66.3],\n",
       "       [570. ,   2.8,   4.5,  66.3],\n",
       "       [520. ,   3.5,   1.5,  10.2],\n",
       "       [580. ,   4. ,   1.2,  10.2],\n",
       "       [640. ,   3.2,   4.5,  76.5],\n",
       "       [500. ,   3.2,   1.2,  10.2],\n",
       "       [550. ,   2.4,   3.8,  56.1],\n",
       "       [630. ,   2.8,   5.1,  76.5]])"
      ]
     },
     "execution_count": 77,
     "metadata": {},
     "output_type": "execute_result"
    }
   ],
   "source": [
    "data_n"
   ]
  },
  {
   "cell_type": "code",
   "execution_count": 86,
   "metadata": {
    "execution": {
     "iopub.execute_input": "2024-08-26T04:32:15.793163Z",
     "iopub.status.busy": "2024-08-26T04:32:15.791588Z",
     "iopub.status.idle": "2024-08-26T04:32:15.805994Z",
     "shell.execute_reply": "2024-08-26T04:32:15.804652Z",
     "shell.execute_reply.started": "2024-08-26T04:32:15.793113Z"
    },
    "trusted": true
   },
   "outputs": [
    {
     "name": "stdout",
     "output_type": "stream",
     "text": [
      "[[670.    3.1   4.4  71.4]\n",
      " [510.    3.8   1.6  10.2]\n",
      " [570.    2.8   4.1  66.3]\n",
      " [580.    2.7   5.1  96.9]\n",
      " [460.    3.2   1.4  10.2]\n",
      " [670.    3.1   4.7  76.5]\n",
      " [470.    3.2   1.3  10.2]\n",
      " [480.    3.    1.4  15.3]\n",
      " [600.    2.7   5.1  81.6]\n",
      " [620.    2.9   4.3  66.3]\n",
      " [510.    3.3   1.7  25.5]\n",
      " [620.    3.4   5.4 117.3]\n",
      " [720.    3.6   6.1 127.5]\n",
      " [480.    3.1   1.6  10.2]\n",
      " [770.    3.    6.1 117.3]\n",
      " [480.    3.    1.4   5.1]\n",
      " [510.    2.5   3.   56.1]\n",
      " [510.    3.7   1.5  20.4]\n",
      " [560.    3.    4.5  76.5]\n",
      " [500.    3.    1.6  10.2]\n",
      " [590.    3.    5.1  91.8]\n",
      " [490.    2.5   4.5  86.7]\n",
      " [680.    2.8   4.8  71.4]\n",
      " [580.    2.7   3.9  61.2]\n",
      " [500.    3.6   1.4  10.2]\n",
      " [690.    3.1   5.1 117.3]\n",
      " [500.    3.5   1.3  15.3]\n",
      " [500.    2.3   3.3  51. ]\n",
      " [560.    3.    4.1  66.3]\n",
      " [550.    2.5   4.   66.3]\n",
      " [770.    2.8   6.7 102. ]\n",
      " [720.    3.    5.8  81.6]\n",
      " [510.    3.4   1.5  10.2]\n",
      " [600.    2.2   4.   51. ]\n",
      " [540.    3.    4.5  76.5]\n",
      " [790.    3.8   6.4 102. ]\n",
      " [690.    3.1   5.4 107.1]\n",
      " [540.    3.4   1.7  10.2]\n",
      " [500.    2.    3.5  51. ]\n",
      " [680.    3.2   5.9 117.3]\n",
      " [670.    3.3   5.7 127.5]\n",
      " [610.    3.    4.9  91.8]\n",
      " [440.    2.9   1.4  10.2]\n",
      " [510.    3.5   1.4  10.2]\n",
      " [640.    2.7   5.3  96.9]\n",
      " [670.    3.    5.2 117.3]\n",
      " [620.    2.8   4.8  91.8]\n",
      " [540.    3.9   1.7  20.4]\n",
      " [680.    3.    5.5 107.1]\n",
      " [640.    3.1   5.5  91.8]\n",
      " [570.    2.5   5.  102. ]\n",
      " [670.    3.    5.   86.7]\n",
      " [640.    2.8   5.6 107.1]\n",
      " [670.    2.5   5.8  91.8]\n",
      " [520.    4.1   1.5   5.1]\n",
      " [710.    3.    5.9 107.1]\n",
      " [590.    3.    4.2  76.5]\n",
      " [570.    2.9   4.2  66.3]\n",
      " [560.    2.5   3.9  56.1]\n",
      " [610.    2.8   4.7  61.2]\n",
      " [560.    2.9   3.6  66.3]\n",
      " [550.    3.5   1.3  10.2]\n",
      " [640.    2.8   5.6 112.2]\n",
      " [460.    3.6   1.   10.2]\n",
      " [770.    3.8   6.7 112.2]\n",
      " [660.    2.9   4.6  66.3]\n",
      " [570.    3.8   1.7  15.3]\n",
      " [580.    2.6   4.   61.2]\n",
      " [650.    3.    5.2 102. ]\n",
      " [630.    2.9   5.6  91.8]\n",
      " [660.    3.    4.4  71.4]\n",
      " [610.    2.8   4.   66.3]\n",
      " [500.    3.3   1.4  10.2]\n",
      " [570.    2.6   3.5  51. ]\n",
      " [770.    2.6   6.9 117.3]\n",
      " [540.    3.7   1.5  10.2]\n",
      " [670.    3.3   5.7 107.1]\n",
      " [480.    3.4   1.6  10.2]\n",
      " [510.    3.5   1.4  15.3]\n",
      " [450.    2.3   1.3  15.3]\n",
      " [740.    2.8   6.1  96.9]\n",
      " [460.    3.4   1.4  15.3]\n",
      " [540.    3.9   1.3  20.4]\n",
      " [600.    3.    4.8  91.8]\n",
      " [520.    2.7   3.9  71.4]\n",
      " [640.    2.9   4.3  66.3]\n",
      " [630.    3.3   6.  127.5]]\n",
      "(87, 4)\n"
     ]
    }
   ],
   "source": [
    "train_data = data[1 : int(train_length) + 1]\n",
    "print(train_data)\n",
    "print(train_data.shape)"
   ]
  },
  {
   "cell_type": "code",
   "execution_count": 87,
   "metadata": {
    "execution": {
     "iopub.execute_input": "2024-08-26T04:32:19.076096Z",
     "iopub.status.busy": "2024-08-26T04:32:19.075646Z",
     "iopub.status.idle": "2024-08-26T04:32:19.084235Z",
     "shell.execute_reply": "2024-08-26T04:32:19.082837Z",
     "shell.execute_reply.started": "2024-08-26T04:32:19.076052Z"
    },
    "trusted": true
   },
   "outputs": [
    {
     "name": "stdout",
     "output_type": "stream",
     "text": [
      "[[500.    3.5   1.6  30.6]\n",
      " [560.    2.7   4.2  66.3]\n",
      " [580.    2.7   4.1  51. ]\n",
      " [610.    2.9   4.7  71.4]\n",
      " [610.    3.    4.6  71.4]\n",
      " [440.    3.2   1.3  10.2]\n",
      " [690.    3.1   4.9  76.5]\n",
      " [430.    3.    1.1   5.1]\n",
      " [490.    3.1   1.5  10.2]\n",
      " [490.    3.6   1.4   5.1]\n",
      " [650.    3.2   5.1 102. ]\n",
      " [590.    3.2   4.8  91.8]\n",
      " [490.    2.4   3.3  51. ]\n",
      " [550.    2.3   4.   66.3]\n",
      " [600.    3.4   4.5  81.6]\n",
      " [530.    3.7   1.5  10.2]\n",
      " [550.    2.4   3.7  51. ]\n",
      " [700.    3.2   4.7  71.4]\n",
      " [520.    3.4   1.4  10.2]\n",
      " [650.    3.    5.5  91.8]\n",
      " [630.    3.3   4.7  81.6]\n",
      " [730.    2.9   6.3  91.8]\n",
      " [500.    3.4   1.5  10.2]\n",
      " [760.    3.    6.6 107.1]\n",
      " [510.    3.8   1.5  15.3]\n",
      " [720.    3.2   6.   91.8]\n",
      " [620.    2.2   4.5  76.5]\n",
      " [610.    2.6   5.6  71.4]\n",
      " [540.    3.4   1.5  20.4]]\n",
      "(29, 4)\n"
     ]
    }
   ],
   "source": [
    "validation_data = data[int(train_length) + 1: int(train_length + valid_length) + 1]\n",
    "print(validation_data)\n",
    "print(validation_data.shape)"
   ]
  },
  {
   "cell_type": "code",
   "execution_count": 88,
   "metadata": {
    "execution": {
     "iopub.execute_input": "2024-08-26T04:32:20.907385Z",
     "iopub.status.busy": "2024-08-26T04:32:20.906911Z",
     "iopub.status.idle": "2024-08-26T04:32:20.915653Z",
     "shell.execute_reply": "2024-08-26T04:32:20.914611Z",
     "shell.execute_reply.started": "2024-08-26T04:32:20.907321Z"
    },
    "trusted": true
   },
   "outputs": [
    {
     "name": "stdout",
     "output_type": "stream",
     "text": [
      "[[480.    3.4   1.9  10.2]\n",
      " [560.    2.8   4.9 102. ]\n",
      " [490.    3.1   1.5   5.1]\n",
      " [500.    3.4   1.6  20.4]\n",
      " [550.    4.2   1.4  10.2]\n",
      " [630.    2.5   4.9  76.5]\n",
      " [630.    3.4   5.6 122.4]\n",
      " [510.    3.8   1.9  20.4]\n",
      " [570.    3.    4.2  61.2]\n",
      " [630.    2.7   4.9  91.8]\n",
      " [670.    3.1   5.6 122.4]\n",
      " [630.    2.5   5.   96.9]\n",
      " [580.    2.7   5.1  96.9]\n",
      " [640.    3.2   5.3 117.3]\n",
      " [550.    2.6   4.4  61.2]\n",
      " [470.    3.2   1.6  10.2]\n",
      " [600.    2.9   4.5  76.5]\n",
      " [490.    3.    1.4  10.2]\n",
      " [460.    3.1   1.5  10.2]\n",
      " [650.    2.8   4.6  76.5]\n",
      " [650.    3.    5.8 112.2]\n",
      " [630.    2.3   4.4  66.3]\n",
      " [570.    2.8   4.5  66.3]\n",
      " [520.    3.5   1.5  10.2]\n",
      " [580.    4.    1.2  10.2]\n",
      " [640.    3.2   4.5  76.5]\n",
      " [500.    3.2   1.2  10.2]\n",
      " [550.    2.4   3.8  56.1]\n",
      " [630.    2.8   5.1  76.5]]\n",
      "(29, 4)\n"
     ]
    }
   ],
   "source": [
    "test_data = data[ int(train_length + valid_length) + 1 :  int(train_length + valid_length + test_length) + 1]\n",
    "print(test_data)\n",
    "print(test_data.shape)"
   ]
  },
  {
   "cell_type": "code",
   "execution_count": 89,
   "metadata": {
    "execution": {
     "iopub.execute_input": "2024-08-26T04:35:10.938171Z",
     "iopub.status.busy": "2024-08-26T04:35:10.937696Z",
     "iopub.status.idle": "2024-08-26T04:35:10.944850Z",
     "shell.execute_reply": "2024-08-26T04:35:10.943198Z",
     "shell.execute_reply.started": "2024-08-26T04:35:10.938129Z"
    },
    "trusted": true
   },
   "outputs": [],
   "source": [
    "x_train = train_data\n",
    "x_valid = validation_data\n",
    "x_test = test_data"
   ]
  },
  {
   "cell_type": "code",
   "execution_count": 90,
   "metadata": {
    "execution": {
     "iopub.execute_input": "2024-08-26T04:35:25.589092Z",
     "iopub.status.busy": "2024-08-26T04:35:25.588644Z",
     "iopub.status.idle": "2024-08-26T04:35:25.598771Z",
     "shell.execute_reply": "2024-08-26T04:35:25.597593Z",
     "shell.execute_reply.started": "2024-08-26T04:35:25.589046Z"
    },
    "trusted": true
   },
   "outputs": [
    {
     "data": {
      "text/plain": [
       "array([0., 1., 0., 1., 2., 0., 1., 0., 0., 1., 1., 0., 2., 2., 0., 2., 0.,\n",
       "       1., 0., 1., 0., 2., 2., 1., 1., 0., 2., 0., 1., 1., 1., 2., 2., 0.,\n",
       "       1., 1., 2., 2., 0., 1., 2., 2., 2., 0., 0., 2., 2., 2., 0., 2., 2.,\n",
       "       2., 1., 2., 2., 0., 2., 1., 1., 1., 1., 1., 0., 2., 0., 2., 1., 0.,\n",
       "       1., 2., 2., 1., 1., 0., 1., 2., 0., 2., 0., 0., 0., 2., 0., 0., 2.,\n",
       "       1., 1., 2., 0., 1., 1., 1., 1., 0., 1., 0., 0., 0., 2., 1., 1., 1.,\n",
       "       1., 0., 1., 1., 0., 2., 1., 2., 0., 2., 0., 2., 1., 2., 0., 0., 2.,\n",
       "       0., 0., 0., 1., 2., 0., 1., 2., 2., 2., 2., 2., 1., 0., 1., 0., 0.,\n",
       "       1., 2., 1., 1., 0., 0., 1., 0., 1., 2.])"
      ]
     },
     "execution_count": 90,
     "metadata": {},
     "output_type": "execute_result"
    }
   ],
   "source": [
    "labels"
   ]
  },
  {
   "cell_type": "code",
   "execution_count": 91,
   "metadata": {
    "execution": {
     "iopub.execute_input": "2024-08-26T04:35:33.199302Z",
     "iopub.status.busy": "2024-08-26T04:35:33.198364Z",
     "iopub.status.idle": "2024-08-26T04:35:33.206358Z",
     "shell.execute_reply": "2024-08-26T04:35:33.205069Z",
     "shell.execute_reply.started": "2024-08-26T04:35:33.199242Z"
    },
    "trusted": true
   },
   "outputs": [
    {
     "data": {
      "text/plain": [
       "(146,)"
      ]
     },
     "execution_count": 91,
     "metadata": {},
     "output_type": "execute_result"
    }
   ],
   "source": [
    "labels.shape"
   ]
  },
  {
   "cell_type": "code",
   "execution_count": 92,
   "metadata": {
    "execution": {
     "iopub.execute_input": "2024-08-26T04:37:04.140395Z",
     "iopub.status.busy": "2024-08-26T04:37:04.139929Z",
     "iopub.status.idle": "2024-08-26T04:37:04.146607Z",
     "shell.execute_reply": "2024-08-26T04:37:04.145383Z",
     "shell.execute_reply.started": "2024-08-26T04:37:04.140337Z"
    },
    "trusted": true
   },
   "outputs": [],
   "source": [
    "y_train = labels[1 : int(train_length) + 1]\n",
    "y_valid = labels[int(train_length) + 1 : int(train_length + valid_length) + 1]\n",
    "y_test = labels[int(train_length + valid_length) + 1 : int(train_length + valid_length + test_length) + 1]"
   ]
  },
  {
   "cell_type": "code",
   "execution_count": 93,
   "metadata": {
    "execution": {
     "iopub.execute_input": "2024-08-26T04:37:05.211770Z",
     "iopub.status.busy": "2024-08-26T04:37:05.210867Z",
     "iopub.status.idle": "2024-08-26T04:37:05.219109Z",
     "shell.execute_reply": "2024-08-26T04:37:05.217915Z",
     "shell.execute_reply.started": "2024-08-26T04:37:05.211726Z"
    },
    "trusted": true
   },
   "outputs": [
    {
     "data": {
      "text/plain": [
       "((87,), (29,), (29,))"
      ]
     },
     "execution_count": 93,
     "metadata": {},
     "output_type": "execute_result"
    }
   ],
   "source": [
    "y_train.shape, y_valid.shape, y_test.shape"
   ]
  },
  {
   "cell_type": "markdown",
   "metadata": {},
   "source": [
    "## b)"
   ]
  },
  {
   "cell_type": "code",
   "execution_count": null,
   "metadata": {
    "execution": {
     "iopub.execute_input": "2024-08-26T04:39:09.125211Z",
     "iopub.status.busy": "2024-08-26T04:39:09.124360Z",
     "iopub.status.idle": "2024-08-26T04:39:09.131483Z",
     "shell.execute_reply": "2024-08-26T04:39:09.130244Z",
     "shell.execute_reply.started": "2024-08-26T04:39:09.125155Z"
    },
    "trusted": true
   },
   "outputs": [],
   "source": [
    "# counting the misclassified points for errors\n",
    "def compute_error(y_pred, y_train):\n",
    "    n = len(y_pred)\n",
    "    miss = 0\n",
    "    for i in range(n):\n",
    "        print(y_pred[i])\n",
    "        if(y_pred[i] != y_train[i]):\n",
    "            miss += 1\n",
    "    \n",
    "    return miss"
   ]
  },
  {
   "cell_type": "code",
   "execution_count": 106,
   "metadata": {
    "execution": {
     "iopub.execute_input": "2024-08-26T04:43:14.179771Z",
     "iopub.status.busy": "2024-08-26T04:43:14.178915Z",
     "iopub.status.idle": "2024-08-26T04:43:14.445866Z",
     "shell.execute_reply": "2024-08-26T04:43:14.444728Z",
     "shell.execute_reply.started": "2024-08-26T04:43:14.179725Z"
    },
    "trusted": true
   },
   "outputs": [
    {
     "name": "stdout",
     "output_type": "stream",
     "text": [
      "[87, 0, 2, 1, 2, 2, 2, 2, 3, 6, 6, 5, 6, 9]\n"
     ]
    }
   ],
   "source": [
    "train_errors = []\n",
    "for k in range(1 , 15):\n",
    "    prediction = predict(x_train, x_train, y_train, k, pairwise_3)\n",
    "    error = compute_error(prediction, y_train)\n",
    "    train_errors.append(error)\n",
    "    \n",
    "print(train_errors)"
   ]
  },
  {
   "cell_type": "code",
   "execution_count": 107,
   "metadata": {
    "execution": {
     "iopub.execute_input": "2024-08-26T04:43:15.670179Z",
     "iopub.status.busy": "2024-08-26T04:43:15.669182Z",
     "iopub.status.idle": "2024-08-26T04:43:15.767837Z",
     "shell.execute_reply": "2024-08-26T04:43:15.766463Z",
     "shell.execute_reply.started": "2024-08-26T04:43:15.670130Z"
    },
    "trusted": true
   },
   "outputs": [
    {
     "name": "stdout",
     "output_type": "stream",
     "text": [
      "[21, 3, 3, 3, 3, 4, 3, 4, 3, 4, 4, 5, 3, 5]\n"
     ]
    }
   ],
   "source": [
    "valid_errors = []\n",
    "for k in range(1 , 15):\n",
    "    prediction = predict(x_valid, x_train, y_train, k, pairwise_3)\n",
    "    error = compute_error(prediction, y_valid)\n",
    "    valid_errors.append(error)\n",
    "    \n",
    "print(valid_errors)"
   ]
  },
  {
   "cell_type": "code",
   "execution_count": 108,
   "metadata": {
    "execution": {
     "iopub.execute_input": "2024-08-26T04:43:16.907897Z",
     "iopub.status.busy": "2024-08-26T04:43:16.907510Z",
     "iopub.status.idle": "2024-08-26T04:43:17.005239Z",
     "shell.execute_reply": "2024-08-26T04:43:17.004068Z",
     "shell.execute_reply.started": "2024-08-26T04:43:16.907859Z"
    },
    "trusted": true
   },
   "outputs": [
    {
     "name": "stdout",
     "output_type": "stream",
     "text": [
      "[26, 1, 1, 2, 2, 2, 2, 2, 2, 3, 3, 3, 4, 4]\n"
     ]
    }
   ],
   "source": [
    "test_errors = []\n",
    "for k in range(1 , 15):\n",
    "    prediction = predict(x_test, x_train, y_train, k, pairwise_3)\n",
    "    error = compute_error(prediction, y_test)\n",
    "    test_errors.append(error)\n",
    "    \n",
    "print(test_errors)"
   ]
  },
  {
   "cell_type": "code",
   "execution_count": 121,
   "metadata": {
    "execution": {
     "iopub.execute_input": "2024-08-26T04:57:23.054995Z",
     "iopub.status.busy": "2024-08-26T04:57:23.054575Z",
     "iopub.status.idle": "2024-08-26T04:57:23.414317Z",
     "shell.execute_reply": "2024-08-26T04:57:23.413333Z",
     "shell.execute_reply.started": "2024-08-26T04:57:23.054957Z"
    },
    "trusted": true
   },
   "outputs": [
    {
     "data": {
      "text/plain": [
       "Text(0.5, 1.0, 'Performance Under Varying K Values')"
      ]
     },
     "execution_count": 121,
     "metadata": {},
     "output_type": "execute_result"
    },
    {
     "data": {
      "image/png": "[encoded data removed]",
      "text/plain": [
       "<Figure size 640x480 with 1 Axes>"
      ]
     },
     "metadata": {},
     "output_type": "display_data"
    }
   ],
   "source": [
    "import matplotlib.pyplot as plt\n",
    "\n",
    "k_values = [1,2,3,4,5,6,7,8,9,10,11,12,13,14]\n",
    "plt.plot(k_values,train_errors, color='red',label='Training Errors')\n",
    "plt.plot(k_values,valid_errors, color='green',label='Validation Errors')\n",
    "\n",
    "plt.ylim(0, 5)\n",
    "\n",
    "plt.xlabel('K values')\n",
    "plt.ylabel('Errors')\n",
    "plt.legend()\n",
    "plt.title('Performance Under Varying K Values')  "
   ]
  },
  {
   "cell_type": "markdown",
   "metadata": {},
   "source": [
    "### WE CAN SEE THAT K = 7 GIVES LOW ERROR FOR ALL 3 SETS, SO I CHOOSE K = 7"
   ]
  },
  {
   "cell_type": "markdown",
   "metadata": {},
   "source": [
    "## c)"
   ]
  },
  {
   "cell_type": "code",
   "execution_count": 122,
   "metadata": {
    "execution": {
     "iopub.execute_input": "2024-08-26T04:58:23.402819Z",
     "iopub.status.busy": "2024-08-26T04:58:23.402334Z",
     "iopub.status.idle": "2024-08-26T04:58:23.409653Z",
     "shell.execute_reply": "2024-08-26T04:58:23.408431Z",
     "shell.execute_reply.started": "2024-08-26T04:58:23.402774Z"
    },
    "trusted": true
   },
   "outputs": [],
   "source": [
    "def compute_accuracy(y_test, y_pred):\n",
    "    n = len(y_test)\n",
    "    correct = 0\n",
    "    \n",
    "    for i in range(n):\n",
    "        if(y_test[i] == y_pred[i]):\n",
    "            correct += 1\n",
    "            \n",
    "    return (correct / n) * 100\n",
    "    "
   ]
  },
  {
   "cell_type": "code",
   "execution_count": 123,
   "metadata": {
    "execution": {
     "iopub.execute_input": "2024-08-26T04:58:24.902757Z",
     "iopub.status.busy": "2024-08-26T04:58:24.902343Z",
     "iopub.status.idle": "2024-08-26T04:58:24.908102Z",
     "shell.execute_reply": "2024-08-26T04:58:24.906919Z",
     "shell.execute_reply.started": "2024-08-26T04:58:24.902718Z"
    },
    "trusted": true
   },
   "outputs": [],
   "source": [
    "k = [2,3 ,4,5,7,9,13] # values of k at which the validation error was least"
   ]
  },
  {
   "cell_type": "code",
   "execution_count": 125,
   "metadata": {
    "execution": {
     "iopub.execute_input": "2024-08-26T05:00:53.936344Z",
     "iopub.status.busy": "2024-08-26T05:00:53.935276Z",
     "iopub.status.idle": "2024-08-26T05:00:53.991269Z",
     "shell.execute_reply": "2024-08-26T05:00:53.990044Z",
     "shell.execute_reply.started": "2024-08-26T05:00:53.936287Z"
    },
    "trusted": true
   },
   "outputs": [
    {
     "name": "stdout",
     "output_type": "stream",
     "text": [
      "The accuracy of this KNN algorithm is: 96.55172413793103 on k = 2.\n"
     ]
    }
   ],
   "source": [
    "accuracy = 0\n",
    "final_k = 2\n",
    "for k_ in k:\n",
    "    prediction = predict(x_test, x_train, y_train, k_, pairwise_3)\n",
    "    acc = compute_accuracy(y_test, prediction)\n",
    "    if (acc > accuracy):\n",
    "        accuracy = acc\n",
    "        final_k = k_\n",
    "        \n",
    "print(f\"The accuracy of this KNN algorithm is: {accuracy} on k = {final_k}.\")"
   ]
  }
 ],
 "metadata": {
  "kaggle": {
   "accelerator": "none",
   "dataSources": [
    {
     "datasetId": 5594547,
     "sourceId": 9247942,
     "sourceType": "datasetVersion"
    }
   ],
   "dockerImageVersionId": 30761,
   "isGpuEnabled": false,
   "isInternetEnabled": true,
   "language": "python",
   "sourceType": "notebook"
  },
  "kernelspec": {
   "display_name": "Python 3",
   "language": "python",
   "name": "python3"
  },
  "language_info": {
   "codemirror_mode": {
    "name": "ipython",
    "version": 3
   },
   "file_extension": ".py",
   "mimetype": "text/x-python",
   "name": "python",
   "nbconvert_exporter": "python",
   "pygments_lexer": "ipython3",
   "version": "3.10.14"
  },
  "nteract": {
   "version": "nteract-front-end@1.0.0"
  }
 },
 "nbformat": 4,
 "nbformat_minor": 5
}
