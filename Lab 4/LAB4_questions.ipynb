{
 "cells": [
  {
   "cell_type": "code",
   "execution_count": 2,
   "metadata": {},
   "outputs": [],
   "source": [
    "import numpy as np\n",
    "import matplotlib.pyplot as plt"
   ]
  },
  {
   "cell_type": "markdown",
   "metadata": {},
   "source": [
    "# K means on synthetic dataset\n",
    "Your task is to implement kmeans from scratch without using any library other than nummpy, and matplotlib. Wherever necessary sklearn codes will be hardcoded and do not require any modifications. No need to modify any cells other than the defining functions."
   ]
  },
  {
   "cell_type": "code",
   "execution_count": 27,
   "metadata": {},
   "outputs": [
    {
     "data": {
      "text/plain": [
       "(array([[-1.82150565,  0.07098024],\n",
       "        [ 2.16732621, -2.93199608],\n",
       "        [ 0.8465158 , -3.26075305],\n",
       "        ...,\n",
       "        [ 3.29772603,  4.24400152],\n",
       "        [-1.69503125, -0.29979681],\n",
       "        [-1.64362141,  0.63035513]]),\n",
       " array([1, 2, 2, ..., 0, 1, 1]))"
      ]
     },
     "execution_count": 27,
     "metadata": {},
     "output_type": "execute_result"
    }
   ],
   "source": [
    "#don't edit this cell\n",
    "from sklearn.datasets._samples_generator import make_blobs\n",
    "np.random.seed(0)\n",
    "X, y = make_blobs(n_samples=5000, centers=[[4,4], [-2, -1], [2, -3], [1, 1]], cluster_std=0.9)\n",
    "X,y"
   ]
  },
  {
   "cell_type": "code",
   "execution_count": 28,
   "metadata": {},
   "outputs": [
    {
     "name": "stdout",
     "output_type": "stream",
     "text": [
      "Initialized Centroids Shape: (4, 2)\n"
     ]
    }
   ],
   "source": [
    "def initialize_centroids(X, k):\n",
    "    return NotImplementedError\n",
    "\n",
    "# Validate initialize centroids function\n",
    "k = len(np.unique(y))  \n",
    "centroids = initialize_centroids(X, k)\n",
    "print(\"Initialized Centroids Shape:\", centroids.shape)"
   ]
  },
  {
   "cell_type": "code",
   "execution_count": 29,
   "metadata": {},
   "outputs": [],
   "source": [
    "# Function to calculate Euclidean distance\n",
    "def euclidean_distance(a, b):\n",
    "    return NotImplementedError"
   ]
  },
  {
   "cell_type": "code",
   "execution_count": 30,
   "metadata": {},
   "outputs": [
    {
     "name": "stdout",
     "output_type": "stream",
     "text": [
      "Distances computed:\n",
      "[[6.85158316 4.80575695 2.49093749 1.35318702]\n",
      " [5.98995314 0.19027042 5.36079494 3.91950081]\n",
      " [6.90432455 1.28041433 4.14704654 3.48522393]\n",
      " ...\n",
      " [2.10767214 7.14814148 8.99260531 5.70280428]\n",
      " [6.87947335 4.48878653 2.26078065 1.25097632]\n",
      " [6.49883946 5.02692561 3.06415822 1.34684575]]\n"
     ]
    }
   ],
   "source": [
    "# General compute_distances function\n",
    "def compute_distances(X, centroids, distance_metric):\n",
    "    return NotImplementedError\n",
    "\n",
    "distances = compute_distances(X, centroids, euclidean_distance)\n",
    "print(\"Distances computed:\")\n",
    "print(distances.shape)\n",
    "print(distances)"
   ]
  },
  {
   "cell_type": "code",
   "execution_count": 32,
   "metadata": {},
   "outputs": [
    {
     "name": "stdout",
     "output_type": "stream",
     "text": [
      "Cluster labels assigned:\n",
      "<class 'NotImplementedError'>\n"
     ]
    }
   ],
   "source": [
    "def assign_clusters(distances):\n",
    "    return NotImplementedError\n",
    "\n",
    "# Test assign_clusters\n",
    "labels = assign_clusters(distances)\n",
    "print(\"Cluster labels assigned:\")\n",
    "print(labels)"
   ]
  },
  {
   "cell_type": "code",
   "execution_count": 34,
   "metadata": {},
   "outputs": [
    {
     "name": "stdout",
     "output_type": "stream",
     "text": [
      "Updated centroids:\n"
     ]
    },
    {
     "ename": "AttributeError",
     "evalue": "type object 'NotImplementedError' has no attribute 'shape'",
     "output_type": "error",
     "traceback": [
      "\u001b[1;31m---------------------------------------------------------------------------\u001b[0m",
      "\u001b[1;31mAttributeError\u001b[0m                            Traceback (most recent call last)",
      "Cell \u001b[1;32mIn[34], line 7\u001b[0m\n\u001b[0;32m      5\u001b[0m new_centroids \u001b[38;5;241m=\u001b[39m update_centroids(X, labels, k)\n\u001b[0;32m      6\u001b[0m \u001b[38;5;28mprint\u001b[39m(\u001b[38;5;124m\"\u001b[39m\u001b[38;5;124mUpdated centroids:\u001b[39m\u001b[38;5;124m\"\u001b[39m)\n\u001b[1;32m----> 7\u001b[0m \u001b[38;5;28mprint\u001b[39m(\u001b[43mnew_centroids\u001b[49m\u001b[38;5;241;43m.\u001b[39;49m\u001b[43mshape\u001b[49m)\n\u001b[0;32m      8\u001b[0m \u001b[38;5;28mprint\u001b[39m(new_centroids)\n",
      "\u001b[1;31mAttributeError\u001b[0m: type object 'NotImplementedError' has no attribute 'shape'"
     ]
    }
   ],
   "source": [
    "def update_centroids(X, labels, k):\n",
    "    return NotImplementedError\n",
    "\n",
    "# Test update_centroids\n",
    "new_centroids = update_centroids(X, labels, k)\n",
    "print(\"Updated centroids:\")\n",
    "print(new_centroids.shape)\n",
    "print(new_centroids)"
   ]
  },
  {
   "cell_type": "code",
   "execution_count": 11,
   "metadata": {},
   "outputs": [
    {
     "name": "stdout",
     "output_type": "stream",
     "text": [
      "Has converged:\n",
      "False\n"
     ]
    }
   ],
   "source": [
    "def has_converged(old_centroids, centroids):\n",
    "    return NotImplementedError\n",
    "\n",
    "# Test has_converged\n",
    "converged = has_converged(centroids, new_centroids)\n",
    "print(\"Has converged:\")\n",
    "print(converged)"
   ]
  },
  {
   "cell_type": "code",
   "execution_count": 36,
   "metadata": {},
   "outputs": [
    {
     "ename": "AttributeError",
     "evalue": "type object 'NotImplementedError' has no attribute 'shape'",
     "output_type": "error",
     "traceback": [
      "\u001b[1;31m---------------------------------------------------------------------------\u001b[0m",
      "\u001b[1;31mAttributeError\u001b[0m                            Traceback (most recent call last)",
      "Cell \u001b[1;32mIn[36], line 12\u001b[0m\n\u001b[0;32m     10\u001b[0m k \u001b[38;5;241m=\u001b[39m \u001b[38;5;28mlen\u001b[39m(np\u001b[38;5;241m.\u001b[39munique(y))  \u001b[38;5;66;03m# Number of clusters\u001b[39;00m\n\u001b[0;32m     11\u001b[0m labels, centroids \u001b[38;5;241m=\u001b[39m kmeans(X, k)\n\u001b[1;32m---> 12\u001b[0m \u001b[38;5;28;01massert\u001b[39;00m \u001b[43mlabels\u001b[49m\u001b[38;5;241;43m.\u001b[39;49m\u001b[43mshape\u001b[49m[\u001b[38;5;241m0\u001b[39m] \u001b[38;5;241m==\u001b[39m X\u001b[38;5;241m.\u001b[39mshape[\u001b[38;5;241m0\u001b[39m], \u001b[38;5;124m\"\u001b[39m\u001b[38;5;124mkmeans failed\u001b[39m\u001b[38;5;124m\"\u001b[39m\n\u001b[0;32m     13\u001b[0m \u001b[38;5;28;01massert\u001b[39;00m centroids\u001b[38;5;241m.\u001b[39mshape \u001b[38;5;241m==\u001b[39m (k, X\u001b[38;5;241m.\u001b[39mshape[\u001b[38;5;241m1\u001b[39m]), \u001b[38;5;124m\"\u001b[39m\u001b[38;5;124mkmeans failed\u001b[39m\u001b[38;5;124m\"\u001b[39m\n",
      "\u001b[1;31mAttributeError\u001b[0m: type object 'NotImplementedError' has no attribute 'shape'"
     ]
    }
   ],
   "source": [
    "# summing it all\n",
    "def kmeans(X, k, max_iters=100,distance_metric=euclidean_distance):\n",
    "    centroids = None\n",
    "    for i in range(max_iters):\n",
    "        NotImplementedError\n",
    "    return labels, centroids\n",
    "\n",
    "# Test kmeans end-to-end\n",
    "# Run k-means on the training data\n",
    "k = len(np.unique(y))  # Number of clusters\n",
    "labels, centroids = kmeans(X, k)\n",
    "assert labels.shape[0] == X.shape[0], \"kmeans failed\"\n",
    "assert centroids.shape == (k, X.shape[1]), \"kmeans failed\""
   ]
  },
  {
   "cell_type": "code",
   "execution_count": 26,
   "metadata": {},
   "outputs": [],
   "source": [
    "# Visualize the centroids"
   ]
  },
  {
   "cell_type": "code",
   "execution_count": 15,
   "metadata": {},
   "outputs": [],
   "source": [
    "def match_labels(y_true, y_pred,  num_classes):\n",
    "    return NotImplementedError\n",
    "\n",
    "# Get the matched labels\n",
    "y_pred_matched = match_labels(y, labels, k)"
   ]
  },
  {
   "cell_type": "code",
   "execution_count": null,
   "metadata": {},
   "outputs": [],
   "source": [
    "# print accuracy"
   ]
  },
  {
   "cell_type": "markdown",
   "metadata": {},
   "source": [
    "# Now, on time series data - You are free to explore kmeans++ and DTW for better accuracy"
   ]
  },
  {
   "cell_type": "code",
   "execution_count": 17,
   "metadata": {},
   "outputs": [],
   "source": [
    "# Load the training data and test data"
   ]
  },
  {
   "cell_type": "code",
   "execution_count": 18,
   "metadata": {},
   "outputs": [
    {
     "name": "stdout",
     "output_type": "stream",
     "text": [
      "Number of time series: 23\n",
      "Number of unique classes: 2\n",
      "Time series length: 136\n"
     ]
    }
   ],
   "source": [
    "# Basic summary statistics\n",
    "print(\"Number of time series:\", len(data_train))\n",
    "print(\"Number of unique classes:\", len(np.unique(data_train[:,0])))\n",
    "print(\"Time series length:\", len(data_train[0,1:]))"
   ]
  },
  {
   "cell_type": "code",
   "execution_count": 20,
   "metadata": {},
   "outputs": [],
   "source": [
    "k = len(np.unique(y_train))  # Number of clusters\n",
    "labels_train, centroids_train = kmeans(X_train, k)\n",
    "assert labels_train.shape[0] == X_train.shape[0], \"kmeans failed\"\n",
    "assert centroids_train.shape == (k, X_train.shape[1]), \"kmeans failed\""
   ]
  },
  {
   "cell_type": "code",
   "execution_count": 25,
   "metadata": {},
   "outputs": [],
   "source": [
    "# Visualize the centroids"
   ]
  },
  {
   "cell_type": "code",
   "execution_count": 24,
   "metadata": {},
   "outputs": [],
   "source": [
    "# Evaluate the clustering on the test data"
   ]
  }
 ],
 "metadata": {
  "kernelspec": {
   "display_name": "Python 3",
   "language": "python",
   "name": "python3"
  },
  "language_info": {
   "codemirror_mode": {
    "name": "ipython",
    "version": 3
   },
   "file_extension": ".py",
   "mimetype": "text/x-python",
   "name": "python",
   "nbconvert_exporter": "python",
   "pygments_lexer": "ipython3",
   "version": "3.9.10"
  }
 },
 "nbformat": 4,
 "nbformat_minor": 2
}
