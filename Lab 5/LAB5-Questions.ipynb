{
 "cells": [
  {
   "cell_type": "markdown",
   "metadata": {},
   "source": [
    "# LAB-5"
   ]
  },
  {
   "cell_type": "markdown",
   "metadata": {},
   "source": [
    "## Understanding SVD"
   ]
  },
  {
   "cell_type": "code",
   "execution_count": 45,
   "metadata": {},
   "outputs": [],
   "source": [
    "import numpy as np\n",
    "import random\n",
    "\n",
    "def compute_svd(a):\n",
    "    \"\"\"\n",
    "    Computes the Singular Value Decomposition of the input matrix.\n",
    "\n",
    "    Parameters:\n",
    "    matrix (ndarray): Input matrix to decompose\n",
    "\n",
    "    Returns:\n",
    "    U (ndarray): Left singular vectors\n",
    "    S (ndarray): Singular values\n",
    "    VT (ndarray): Right singular vectors (transposed)\n",
    "    \n",
    "    You may not use np.linalg.svd() for this. Use power iteration as discussed in class for this.  \n",
    "    \"\"\"\n",
    "\n",
    "    at = a.transpose() # 2*3\n",
    "    # U is made of eigen vectors of a*at and V made of at*a\n",
    "    aat = np.dot(a,at)\n",
    "    ata = np.dot(at,a)\n",
    "    n = aat.shape[0]\n",
    "    m = ata.shape[0]\n",
    "    # making n<=m always\n",
    "    x = min(n,m)\n",
    "    U = np.zeros(shape = (n,x))\n",
    "    S = np.zeros(shape = (x, x)) #made up of square roots of eigen values\n",
    "    V = np.zeros(shape = (m,x))\n",
    "\n",
    "    max_iter = 1000\n",
    "    for i in range(x):\n",
    "        x0 = np.random.rand(n)\n",
    "        # power iteration\n",
    "        for _ in range(max_iter):\n",
    "            x1 =  np.dot(aat, x0)\n",
    "            x0 =x1/np.linalg.norm(x1)\n",
    "        U[:,i] = x0\n",
    "        #x0 is the eigen vector obtained by power iteration\n",
    "        # we want to find min(n,m) = x, number of eigen vectors to make the matrix U\n",
    "        #Mx = lamb*x -> singular value is lamb\n",
    "        lamb = np.dot(x0.transpose(), np.dot(aat,x0))\n",
    "        S[i,i] = np.sqrt(lamb) if lamb>0 else 0\n",
    "        aat =aat- lamb*np.outer(x0,x0)\n",
    "\n",
    "\n",
    "    for i in range(x):\n",
    "        x0 = np.random.rand(m)\n",
    "        # power iteration\n",
    "        for _ in range(max_iter):\n",
    "            x1 =  np.dot(ata, x0)\n",
    "            x0 =x1/np.linalg.norm(x1)\n",
    "        V[:,i] = x0\n",
    "        #x0 is the eigen vector obtained by power iteration\n",
    "        ata =ata- S[i][i]**2 *np.outer(x0,x0)\n",
    "                      \n",
    "    return U, S, V.transpose()\n",
    "    \n",
    "\n",
    "\n",
    "\n",
    "    #return NotImplementedError\n"
   ]
  },
  {
   "cell_type": "code",
   "execution_count": 46,
   "metadata": {},
   "outputs": [
    {
     "name": "stdout",
     "output_type": "stream",
     "text": [
      "U matrix:\n",
      " [[ 0.2298477   0.88346102]\n",
      " [ 0.52474482  0.24078249]\n",
      " [ 0.81964194 -0.40189603]]\n",
      "\n",
      "Singular values (S):\n",
      " [[9.52551809 0.        ]\n",
      " [0.         0.51430058]]\n",
      "\n",
      "V^T matrix:\n",
      " [[ 0.61962948  0.78489445]\n",
      " [ 0.78489445 -0.61962948]]\n"
     ]
    }
   ],
   "source": [
    "A = np.array([[1, 2], [3, 4], [5, 6]])\n",
    "\n",
    "# Compute the SVD\n",
    "U, S, VT = compute_svd(A)\n",
    "\n",
    "# Print the results\n",
    "print(\"U matrix:\\n\", U)\n",
    "print(\"\\nSingular values (S):\\n\", S)\n",
    "print(\"\\nV^T matrix:\\n\", VT)\n"
   ]
  },
  {
   "cell_type": "code",
   "execution_count": 47,
   "metadata": {},
   "outputs": [],
   "source": [
    "def reconstruct_matrix(U, S, VT):\n",
    "    \"\"\"\n",
    "    Reconstructs the original matrix from its SVD components.\n",
    "\n",
    "    Parameters:\n",
    "    U (ndarray): Left singular vectors\n",
    "    S (ndarray): Singular values\n",
    "    VT (ndarray): Right singular vectors (transposed)\n",
    "\n",
    "    Returns:\n",
    "    ndarray: Reconstructed matrix\n",
    "    \"\"\"\n",
    "    return np.dot(U, np.dot(S,VT))\n",
    "    #return NotImplementedError\n"
   ]
  },
  {
   "cell_type": "markdown",
   "metadata": {},
   "source": [
    "## Reconstruction from SVD"
   ]
  },
  {
   "cell_type": "code",
   "execution_count": 48,
   "metadata": {},
   "outputs": [
    {
     "name": "stdout",
     "output_type": "stream",
     "text": [
      "Reconstructed matrix:\n",
      " [[1.71325637 1.4369247 ]\n",
      " [3.19439414 3.84653689]\n",
      " [4.67553191 6.25614908]]\n",
      "\n",
      "Original matrix A:\n",
      " [[1 2]\n",
      " [3 4]\n",
      " [5 6]]\n"
     ]
    }
   ],
   "source": [
    "# Reconstruct the matrix\n",
    "A_reconstructed = reconstruct_matrix(U, S, VT)\n",
    "\n",
    "# Print the reconstructed matrix\n",
    "print(\"Reconstructed matrix:\\n\", A_reconstructed)\n",
    "\n",
    "# Verify reconstruction\n",
    "print(\"\\nOriginal matrix A:\\n\", A)\n"
   ]
  },
  {
   "cell_type": "markdown",
   "metadata": {},
   "source": [
    "Since SVD decomposition is lossless, we still get back the same matrix. Now we will load digit dataset and perform dimensionality reduction."
   ]
  },
  {
   "cell_type": "markdown",
   "metadata": {},
   "source": [
    "## Dimensionality Reduction using SVD"
   ]
  },
  {
   "cell_type": "code",
   "execution_count": 52,
   "metadata": {},
   "outputs": [
    {
     "name": "stdout",
     "output_type": "stream",
     "text": [
      "Collecting scikit-learn\n",
      "  Downloading scikit_learn-1.5.2-cp311-cp311-win_amd64.whl.metadata (13 kB)\n",
      "Requirement already satisfied: numpy>=1.19.5 in c:\\users\\rishita\\appdata\\local\\packages\\pythonsoftwarefoundation.python.3.11_qbz5n2kfra8p0\\localcache\\local-packages\\python311\\site-packages (from scikit-learn) (2.1.2)\n",
      "Requirement already satisfied: scipy>=1.6.0 in c:\\users\\rishita\\appdata\\local\\packages\\pythonsoftwarefoundation.python.3.11_qbz5n2kfra8p0\\localcache\\local-packages\\python311\\site-packages (from scikit-learn) (1.14.1)\n",
      "Collecting joblib>=1.2.0 (from scikit-learn)\n",
      "  Downloading joblib-1.4.2-py3-none-any.whl.metadata (5.4 kB)\n",
      "Collecting threadpoolctl>=3.1.0 (from scikit-learn)\n",
      "  Downloading threadpoolctl-3.5.0-py3-none-any.whl.metadata (13 kB)\n",
      "Downloading scikit_learn-1.5.2-cp311-cp311-win_amd64.whl (11.0 MB)\n",
      "   ---------------------------------------- 0.0/11.0 MB ? eta -:--:--\n",
      "   ---------------------------------------- 0.0/11.0 MB 991.0 kB/s eta 0:00:12\n",
      "   ---------------------------------------- 0.1/11.0 MB 1.5 MB/s eta 0:00:08\n",
      "    --------------------------------------- 0.1/11.0 MB 1.4 MB/s eta 0:00:08\n",
      "   - -------------------------------------- 0.3/11.0 MB 1.8 MB/s eta 0:00:07\n",
      "   - -------------------------------------- 0.4/11.0 MB 2.2 MB/s eta 0:00:05\n",
      "   - -------------------------------------- 0.5/11.0 MB 2.1 MB/s eta 0:00:06\n",
      "   -- ------------------------------------- 0.8/11.0 MB 2.7 MB/s eta 0:00:04\n",
      "   --- ------------------------------------ 0.9/11.0 MB 2.8 MB/s eta 0:00:04\n",
      "   --- ------------------------------------ 1.1/11.0 MB 2.8 MB/s eta 0:00:04\n",
      "   ---- ----------------------------------- 1.1/11.0 MB 2.8 MB/s eta 0:00:04\n",
      "   ---- ----------------------------------- 1.2/11.0 MB 2.6 MB/s eta 0:00:04\n",
      "   ---- ----------------------------------- 1.3/11.0 MB 2.6 MB/s eta 0:00:04\n",
      "   ----- ---------------------------------- 1.6/11.0 MB 2.9 MB/s eta 0:00:04\n",
      "   ------ --------------------------------- 1.7/11.0 MB 2.8 MB/s eta 0:00:04\n",
      "   ------ --------------------------------- 1.9/11.0 MB 2.8 MB/s eta 0:00:04\n",
      "   ------- -------------------------------- 2.0/11.0 MB 2.8 MB/s eta 0:00:04\n",
      "   ------- -------------------------------- 2.0/11.0 MB 2.7 MB/s eta 0:00:04\n",
      "   -------- ------------------------------- 2.3/11.0 MB 2.9 MB/s eta 0:00:03\n",
      "   -------- ------------------------------- 2.3/11.0 MB 2.9 MB/s eta 0:00:04\n",
      "   --------- ------------------------------ 2.5/11.0 MB 2.9 MB/s eta 0:00:03\n",
      "   --------- ------------------------------ 2.6/11.0 MB 2.9 MB/s eta 0:00:03\n",
      "   --------- ------------------------------ 2.7/11.0 MB 3.0 MB/s eta 0:00:03\n",
      "   ---------- ----------------------------- 2.9/11.0 MB 3.0 MB/s eta 0:00:03\n",
      "   ----------- ---------------------------- 3.0/11.0 MB 2.9 MB/s eta 0:00:03\n",
      "   ----------- ---------------------------- 3.2/11.0 MB 3.0 MB/s eta 0:00:03\n",
      "   ------------ --------------------------- 3.4/11.0 MB 3.0 MB/s eta 0:00:03\n",
      "   ------------ --------------------------- 3.5/11.0 MB 3.0 MB/s eta 0:00:03\n",
      "   ------------- -------------------------- 3.6/11.0 MB 3.0 MB/s eta 0:00:03\n",
      "   ------------- -------------------------- 3.7/11.0 MB 2.9 MB/s eta 0:00:03\n",
      "   -------------- ------------------------- 3.9/11.0 MB 3.0 MB/s eta 0:00:03\n",
      "   -------------- ------------------------- 3.9/11.0 MB 3.0 MB/s eta 0:00:03\n",
      "   --------------- ------------------------ 4.2/11.0 MB 3.0 MB/s eta 0:00:03\n",
      "   --------------- ------------------------ 4.2/11.0 MB 3.0 MB/s eta 0:00:03\n",
      "   --------------- ------------------------ 4.4/11.0 MB 3.0 MB/s eta 0:00:03\n",
      "   ---------------- ----------------------- 4.5/11.0 MB 3.0 MB/s eta 0:00:03\n",
      "   ----------------- ---------------------- 4.7/11.0 MB 3.0 MB/s eta 0:00:03\n",
      "   ----------------- ---------------------- 4.9/11.0 MB 3.0 MB/s eta 0:00:03\n",
      "   ------------------ --------------------- 5.0/11.0 MB 3.0 MB/s eta 0:00:02\n",
      "   ------------------ --------------------- 5.1/11.0 MB 3.0 MB/s eta 0:00:02\n",
      "   ------------------ --------------------- 5.2/11.0 MB 3.0 MB/s eta 0:00:02\n",
      "   ------------------- -------------------- 5.3/11.0 MB 3.0 MB/s eta 0:00:02\n",
      "   ------------------- -------------------- 5.5/11.0 MB 3.0 MB/s eta 0:00:02\n",
      "   -------------------- ------------------- 5.7/11.0 MB 3.0 MB/s eta 0:00:02\n",
      "   --------------------- ------------------ 5.8/11.0 MB 3.0 MB/s eta 0:00:02\n",
      "   --------------------- ------------------ 6.0/11.0 MB 3.0 MB/s eta 0:00:02\n",
      "   ---------------------- ----------------- 6.1/11.0 MB 3.0 MB/s eta 0:00:02\n",
      "   ----------------------- ---------------- 6.3/11.0 MB 3.0 MB/s eta 0:00:02\n",
      "   ----------------------- ---------------- 6.4/11.0 MB 3.0 MB/s eta 0:00:02\n",
      "   ----------------------- ---------------- 6.5/11.0 MB 3.0 MB/s eta 0:00:02\n",
      "   ------------------------ --------------- 6.7/11.0 MB 3.1 MB/s eta 0:00:02\n",
      "   ------------------------ --------------- 6.8/11.0 MB 3.1 MB/s eta 0:00:02\n",
      "   ------------------------- -------------- 7.0/11.0 MB 3.1 MB/s eta 0:00:02\n",
      "   ------------------------- -------------- 7.1/11.0 MB 3.1 MB/s eta 0:00:02\n",
      "   ------------------------- -------------- 7.1/11.0 MB 3.1 MB/s eta 0:00:02\n",
      "   -------------------------- ------------- 7.3/11.0 MB 3.0 MB/s eta 0:00:02\n",
      "   -------------------------- ------------- 7.4/11.0 MB 3.0 MB/s eta 0:00:02\n",
      "   --------------------------- ------------ 7.5/11.0 MB 3.0 MB/s eta 0:00:02\n",
      "   --------------------------- ------------ 7.6/11.0 MB 3.0 MB/s eta 0:00:02\n",
      "   --------------------------- ------------ 7.6/11.0 MB 3.0 MB/s eta 0:00:02\n",
      "   ---------------------------- ----------- 7.7/11.0 MB 2.9 MB/s eta 0:00:02\n",
      "   ---------------------------- ----------- 7.8/11.0 MB 2.9 MB/s eta 0:00:02\n",
      "   ---------------------------- ----------- 7.9/11.0 MB 2.9 MB/s eta 0:00:02\n",
      "   ----------------------------- ---------- 8.0/11.0 MB 2.9 MB/s eta 0:00:02\n",
      "   ----------------------------- ---------- 8.2/11.0 MB 2.9 MB/s eta 0:00:01\n",
      "   ------------------------------ --------- 8.3/11.0 MB 2.9 MB/s eta 0:00:01\n",
      "   ------------------------------ --------- 8.5/11.0 MB 2.9 MB/s eta 0:00:01\n",
      "   ------------------------------- -------- 8.6/11.0 MB 2.9 MB/s eta 0:00:01\n",
      "   ------------------------------- -------- 8.7/11.0 MB 2.9 MB/s eta 0:00:01\n",
      "   -------------------------------- ------- 8.8/11.0 MB 2.9 MB/s eta 0:00:01\n",
      "   -------------------------------- ------- 8.9/11.0 MB 2.9 MB/s eta 0:00:01\n",
      "   -------------------------------- ------- 9.1/11.0 MB 2.9 MB/s eta 0:00:01\n",
      "   --------------------------------- ------ 9.1/11.0 MB 2.9 MB/s eta 0:00:01\n",
      "   --------------------------------- ------ 9.3/11.0 MB 2.9 MB/s eta 0:00:01\n",
      "   ---------------------------------- ----- 9.4/11.0 MB 2.9 MB/s eta 0:00:01\n",
      "   ---------------------------------- ----- 9.6/11.0 MB 2.9 MB/s eta 0:00:01\n",
      "   ----------------------------------- ---- 9.7/11.0 MB 2.9 MB/s eta 0:00:01\n",
      "   ----------------------------------- ---- 9.8/11.0 MB 2.9 MB/s eta 0:00:01\n",
      "   ----------------------------------- ---- 9.9/11.0 MB 2.9 MB/s eta 0:00:01\n",
      "   ------------------------------------ --- 10.1/11.0 MB 2.9 MB/s eta 0:00:01\n",
      "   ------------------------------------ --- 10.1/11.0 MB 2.9 MB/s eta 0:00:01\n",
      "   ------------------------------------- -- 10.3/11.0 MB 2.9 MB/s eta 0:00:01\n",
      "   -------------------------------------- - 10.5/11.0 MB 3.0 MB/s eta 0:00:01\n",
      "   -------------------------------------- - 10.6/11.0 MB 3.0 MB/s eta 0:00:01\n",
      "   ---------------------------------------  10.8/11.0 MB 3.0 MB/s eta 0:00:01\n",
      "   ---------------------------------------  10.9/11.0 MB 3.0 MB/s eta 0:00:01\n",
      "   ---------------------------------------  11.0/11.0 MB 2.9 MB/s eta 0:00:01\n",
      "   ---------------------------------------- 11.0/11.0 MB 2.9 MB/s eta 0:00:00\n",
      "Downloading joblib-1.4.2-py3-none-any.whl (301 kB)\n",
      "   ---------------------------------------- 0.0/301.8 kB ? eta -:--:--\n",
      "   ------------------ --------------------- 143.4/301.8 kB 4.3 MB/s eta 0:00:01\n",
      "   ---------------------------------------- 301.8/301.8 kB 3.7 MB/s eta 0:00:00\n",
      "Downloading threadpoolctl-3.5.0-py3-none-any.whl (18 kB)\n",
      "Installing collected packages: threadpoolctl, joblib, scikit-learn\n",
      "Successfully installed joblib-1.4.2 scikit-learn-1.5.2 threadpoolctl-3.5.0\n"
     ]
    },
    {
     "name": "stderr",
     "output_type": "stream",
     "text": [
      "\n",
      "[notice] A new release of pip is available: 24.0 -> 24.3.1\n",
      "[notice] To update, run: C:\\Users\\Rishita\\AppData\\Local\\Microsoft\\WindowsApps\\PythonSoftwareFoundation.Python.3.11_qbz5n2kfra8p0\\python.exe -m pip install --upgrade pip\n"
     ]
    }
   ],
   "source": [
    "!pip install scikit-learn"
   ]
  },
  {
   "cell_type": "code",
   "execution_count": 53,
   "metadata": {},
   "outputs": [],
   "source": [
    "from sklearn.datasets import load_digits\n",
    "# Load first 300 samples from digit dataset sklearn\n",
    "digits = load_digits()\n",
    "X = digits.data[:300]"
   ]
  },
  {
   "cell_type": "code",
   "execution_count": 54,
   "metadata": {},
   "outputs": [],
   "source": [
    "def reduce_dimensions_via_svd(X, num_components=20):\n",
    "    \"\"\"\n",
    "    Reduces the dimensionality of the dataset using SVD.\n",
    "\n",
    "    Parameters:\n",
    "    X (ndarray): Original dataset (n_samples, n_features)\n",
    "    num_components (int): Number of singular values to retain\n",
    "\n",
    "    Returns:\n",
    "    X_reduced (ndarray): Dataset with reduced dimensions\n",
    "    X_reconstructed (ndarray): Dataset reconstructed from reduced dimensions\n",
    "    \"\"\"\n",
    "\n",
    "    U,S,VT = np.linalg.svd(X)\n",
    "    S_reduced = np.diag(S[:num_components])\n",
    "    X_reduced = U[:,:num_components]@S_reduced\n",
    "    X_reconstructed = X_reduced@VT[:num_components,:]\n",
    "    return X_reduced, X_reconstructed\n",
    "\n",
    "    #return NotImplementedError"
   ]
  },
  {
   "cell_type": "code",
   "execution_count": 55,
   "metadata": {},
   "outputs": [
    {
     "name": "stdout",
     "output_type": "stream",
     "text": [
      "Shape of reduced dataset: (300, 20)\n",
      "Shape of reconstructed dataset: (300, 64)\n"
     ]
    }
   ],
   "source": [
    "# Reduce dimensions and reconstruct\n",
    "X_reduced, X_reconstructed = reduce_dimensions_via_svd(X, 20)\n",
    "\n",
    "print(\"Shape of reduced dataset:\", X_reduced.shape)\n",
    "print(\"Shape of reconstructed dataset:\", X_reconstructed.shape)"
   ]
  },
  {
   "cell_type": "code",
   "execution_count": 56,
   "metadata": {},
   "outputs": [
    {
     "name": "stdout",
     "output_type": "stream",
     "text": [
      "Mean Squared Error: 1.4207210191244959\n"
     ]
    }
   ],
   "source": [
    "# Compute Mean squared error\n",
    "from sklearn.metrics import mean_squared_error\n",
    "\n",
    "# Calculate MSE\n",
    "mse = mean_squared_error(X, X_reconstructed)\n",
    "print(\"Mean Squared Error:\", mse)\n"
   ]
  },
  {
   "cell_type": "markdown",
   "metadata": {},
   "source": [
    "## Visualizing Dimensionality Reduction"
   ]
  },
  {
   "cell_type": "code",
   "execution_count": 57,
   "metadata": {},
   "outputs": [
    {
     "data": {
      "image/png": "[encoded data removed]",
      "text/plain": [
       "<Figure size 1000x500 with 2 Axes>"
      ]
     },
     "metadata": {},
     "output_type": "display_data"
    }
   ],
   "source": [
    "import matplotlib.pyplot as plt\n",
    "import numpy as np\n",
    "\n",
    "def plot_digits_comparison(original, reconstructed, index):\n",
    "    \"\"\"\n",
    "    Plots the original and reconstructed digits side by side for comparison.\n",
    "\n",
    "    Parameters:\n",
    "    original (ndarray): Original dataset\n",
    "    reconstructed (ndarray): Reconstructed dataset\n",
    "    index (int): Index of the sample to plot\n",
    "    \"\"\"\n",
    "    fig, axes = plt.subplots(1, 2, figsize=(10, 5))  # Create a figure with two subplots side by side\n",
    "\n",
    "    # Plot original digit\n",
    "    ax = axes[0]\n",
    "    ax.imshow(original[index], cmap='gray')  # Assume original dataset images are 2D matrices\n",
    "    ax.set_title('Original Digit')\n",
    "    ax.axis('off')  # Turn off axis labels and ticks for clarity\n",
    "\n",
    "    # Plot reconstructed digit\n",
    "    ax = axes[1]\n",
    "    ax.imshow(reconstructed[index], cmap='gray')  # Assume reconstructed dataset images are also 2D matrices\n",
    "    ax.set_title('Reconstructed Digit')\n",
    "    ax.axis('off')  # Turn off axis labels and ticks for clarity\n",
    "\n",
    "    plt.show()\n",
    "\n",
    "# Example usage:\n",
    "# Assuming original and reconstructed are arrays of images where each image is a 2D array\n",
    "# For example, using random data to simulate\n",
    "original = np.random.rand(10, 28, 28)  # 10 images, 28x28 pixels each\n",
    "reconstructed = np.random.rand(10, 28, 28)  # Simulated reconstructed images\n",
    "\n",
    "plot_digits_comparison(original, reconstructed, 0)  # Plot the first image in the dataset\n"
   ]
  },
  {
   "cell_type": "code",
   "execution_count": null,
   "metadata": {},
   "outputs": [],
   "source": [
    "# plot reconstruction loss\n",
    "def plot_reconstruction_loss(X, svd_values):\n",
    "    \"\"\"\n",
    "    Plots the reconstruction loss (MSE) for different numbers of singular values retained during SVD.\n",
    "\n",
    "    Parameters:\n",
    "    X (ndarray): Original dataset (n_samples, n_features)\n",
    "    svd_values (list): List of singular values to test\n",
    "    \"\"\"\n",
    "    return NotImplementedError\n"
   ]
  }
 ],
 "metadata": {
  "kernelspec": {
   "display_name": "Python 3",
   "language": "python",
   "name": "python3"
  },
  "language_info": {
   "codemirror_mode": {
    "name": "ipython",
    "version": 3
   },
   "file_extension": ".py",
   "mimetype": "text/x-python",
   "name": "python",
   "nbconvert_exporter": "python",
   "pygments_lexer": "ipython3",
   "version": "3.11.9"
  }
 },
 "nbformat": 4,
 "nbformat_minor": 2
}
