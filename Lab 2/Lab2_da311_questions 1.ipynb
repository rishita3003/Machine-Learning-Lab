{
  "cells": [
    {
      "cell_type": "code",
      "source": [
        "%matplotlib inline\n",
        "import numpy as np"
      ],
      "outputs": [],
      "execution_count": 1,
      "metadata": {},
      "id": "04b904c2"
    },
    {
      "cell_type": "markdown",
      "source": [
        "# Lab-2: GEOMETRY & NEAREST NEIGHBORS \n",
        "- Breakdown weightage for each part of the question is given.\n",
        "- You can access class notes and library documentations."
      ],
      "metadata": {},
      "id": "167422d2"
    },
    {
      "cell_type": "markdown",
      "source": [
        "## 1. Euclidean Norm (10 + 10 + 20 + 10 + 10) \n",
        "The first task for today will be to write functions to compute distances in different orders of complexity."
      ],
      "metadata": {},
      "id": "77dc66ff"
    },
    {
      "cell_type": "code",
      "source": [
        "np.random.seed(2)\n",
        "x_a, x_b = (np.random.rand(i, 2) for i in (2, 3))\n",
        "x_c, x_d = (np.random.rand(i, 100) for i in (125, 150))"
      ],
      "outputs": [],
      "execution_count": 2,
      "metadata": {},
      "id": "f0ec2a0a"
    },
    {
      "cell_type": "markdown",
      "source": [
        "### a."
      ],
      "metadata": {},
      "id": "9f97e159"
    },
    {
      "cell_type": "code",
      "source": [
        "def pairwise_1(x, y):\n",
        "    \"\"\"\n",
        "    Find pairwise euclidean distance using three for loops\n",
        "    \"\"\"\n",
        "    \n",
        "    raise NotImplementedError"
      ],
      "outputs": [],
      "execution_count": 1,
      "metadata": {},
      "id": "7edd6e3c"
    },
    {
      "cell_type": "code",
      "source": [
        "pairwise_1(x_a, x_b)"
      ],
      "outputs": [
        {
          "output_type": "execute_result",
          "execution_count": 4,
          "data": {
            "text/plain": "array([[0.30480944, 0.6368509 , 0.27680674],\n       [0.1665518 , 0.39098802, 0.30148716]])"
          },
          "metadata": {}
        }
      ],
      "execution_count": 4,
      "metadata": {},
      "id": "f5aedb30"
    },
    {
      "cell_type": "markdown",
      "source": [
        "### b."
      ],
      "metadata": {},
      "id": "e828fafe"
    },
    {
      "cell_type": "code",
      "source": [
        "def pairwise_2(x, y):\n",
        "    \"\"\"\n",
        "    Find pairwise euclidean distance using two for loops\n",
        "    \"\"\"\n",
        "    raise NotImplementedError"
      ],
      "outputs": [],
      "execution_count": 5,
      "metadata": {},
      "id": "829cc8d3"
    },
    {
      "cell_type": "code",
      "source": [
        "pairwise_2(x_a, x_b)"
      ],
      "outputs": [
        {
          "output_type": "execute_result",
          "execution_count": 6,
          "data": {
            "text/plain": "array([[0.30480944, 0.6368509 , 0.27680674],\n       [0.1665518 , 0.39098802, 0.30148716]])"
          },
          "metadata": {}
        }
      ],
      "execution_count": 6,
      "metadata": {},
      "id": "08280774"
    },
    {
      "cell_type": "markdown",
      "source": [
        "### c."
      ],
      "metadata": {},
      "id": "342f480c"
    },
    {
      "cell_type": "code",
      "source": [
        "def pairwise_3(x, y):\n",
        "    \"\"\"\n",
        "    An optimize solution with no for loops\n",
        "  \n",
        "    \"\"\"\n",
        "    raise NotImplementedError"
      ],
      "outputs": [],
      "execution_count": 7,
      "metadata": {},
      "id": "78d245b8"
    },
    {
      "cell_type": "code",
      "source": [
        "pairwise_3(x_a, x_b)"
      ],
      "outputs": [
        {
          "output_type": "display_data",
          "data": {
            "text/plain": "array([[0.30480944, 0.6368509 , 0.27680674],\n       [0.1665518 , 0.39098802, 0.30148716]])"
          },
          "metadata": {}
        }
      ],
      "execution_count": null,
      "metadata": {},
      "id": "08f3749b"
    },
    {
      "cell_type": "markdown",
      "source": [
        "### d."
      ],
      "metadata": {},
      "id": "9217bcf3"
    },
    {
      "cell_type": "code",
      "source": [
        "# Compute distance using euclidean distance from scipy library(you can only refer the scipy documentation)\n",
        "def scipy_version(x, y):\n",
        "    \"\"\"\n",
        "    A solution using scipy\n",
        "    \"\"\"\n",
        "    raise NotImplementedError"
      ],
      "outputs": [],
      "execution_count": 8,
      "metadata": {},
      "id": "99ecd2ff"
    },
    {
      "cell_type": "code",
      "source": [
        "scipy_version(x_a, x_b)"
      ],
      "outputs": [
        {
          "output_type": "execute_result",
          "execution_count": 9,
          "data": {
            "text/plain": "array([[0.30480944, 0.6368509 , 0.27680674],\n       [0.1665518 , 0.39098802, 0.30148716]])"
          },
          "metadata": {}
        }
      ],
      "execution_count": 9,
      "metadata": {},
      "id": "a68cd16b"
    },
    {
      "cell_type": "markdown",
      "source": [
        "### e."
      ],
      "metadata": {},
      "id": "057193e4"
    },
    {
      "cell_type": "code",
      "source": [
        "# Now compare all 4 method's runtime using inbuilt timeit function for 7 runs.\n",
        "methods = [\n",
        "    pairwise_1,\n",
        "    pairwise_2,\n",
        "    pairwise_3,\n",
        "    scipy_version,\n",
        "]\n",
        "#TODO: Compute the run time(r) of all methods above"
      ],
      "outputs": [
        {
          "output_type": "stream",
          "name": "stdout",
          "text": "1.39 s ± 48.7 ms per loop (mean ± std. dev. of 7 runs, 1 loop each)\n178 ms ± 2.75 ms per loop (mean ± std. dev. of 7 runs, 10 loops each)\n20.7 ms ± 827 µs per loop (mean ± std. dev. of 7 runs, 100 loops each)\n1.55 ms ± 37.4 µs per loop (mean ± std. dev. of 7 runs, 1,000 loops each)\n"
        }
      ],
      "execution_count": 10,
      "metadata": {},
      "id": "2c093c86"
    },
    {
      "cell_type": "code",
      "source": [
        "#print best values of time(in s) for all methods, out of the 7 runs."
      ],
      "outputs": [
        {
          "output_type": "execute_result",
          "execution_count": 11,
          "data": {
            "text/plain": "[1308.920344003127, 176.15674999979092, 19.240979079913814, 1.5101509009982692]"
          },
          "metadata": {}
        }
      ],
      "execution_count": 11,
      "metadata": {},
      "id": "f20d41ba"
    },
    {
      "cell_type": "markdown",
      "source": [
        "## 2. KNN (10 + 20 + 10)\n",
        "Next we are going to implement KNN algorithm from scratch"
      ],
      "metadata": {},
      "id": "5e2b3092"
    },
    {
      "cell_type": "markdown",
      "source": [
        "### a."
      ],
      "metadata": {},
      "id": "732b2500"
    },
    {
      "cell_type": "code",
      "source": [
        "# sort elements of matrix and corresponding labels in ascending order.\n",
        "def get_sorted_train_labels(distance_matrix, labels):\n",
        "    \n",
        "    raise NotImplementedError"
      ],
      "outputs": [],
      "execution_count": 12,
      "metadata": {},
      "id": "0a5d9a20"
    },
    {
      "cell_type": "code",
      "source": [
        "# test cases\n",
        "x_test = np.array([[1,2,3] , [-4,5,-6]])\n",
        "x_train = np.array([[0,0,0], [1,2,3], [4,5,6], [-4, 4, -6]]) \n",
        "y_train = np.array([[1, 1, 2, 3]]).T  #labels"
      ],
      "outputs": [],
      "execution_count": 13,
      "metadata": {},
      "id": "a3017696"
    },
    {
      "cell_type": "code",
      "source": [
        "# Here, we are comparing the distance computed by different methods if they are similar or not.\n",
        "np.isclose(pairwise_1(x_test, x_train), pairwise_2(x_test, x_train)) "
      ],
      "outputs": [
        {
          "output_type": "execute_result",
          "execution_count": 14,
          "data": {
            "text/plain": "array([[ True,  True,  True,  True],\n       [ True,  True,  True,  True]])"
          },
          "metadata": {}
        }
      ],
      "execution_count": 14,
      "metadata": {},
      "id": "82d68ace"
    },
    {
      "cell_type": "code",
      "source": [
        "np.isclose(pairwise_2(x_test, x_train), pairwise_3(x_test, x_train))"
      ],
      "outputs": [
        {
          "output_type": "execute_result",
          "execution_count": 15,
          "data": {
            "text/plain": "array([[ True,  True,  True,  True],\n       [ True,  True,  True,  True]])"
          },
          "metadata": {}
        }
      ],
      "execution_count": 15,
      "metadata": {},
      "id": "6feb881e"
    },
    {
      "cell_type": "code",
      "source": [
        "distance_matrix = pairwise_3(x_test, x_train)"
      ],
      "outputs": [],
      "execution_count": 16,
      "metadata": {},
      "id": "234eaaff"
    },
    {
      "cell_type": "code",
      "source": [
        "print(distance_matrix)"
      ],
      "outputs": [
        {
          "output_type": "stream",
          "name": "stdout",
          "text": "[[ 3.74165739  0.          5.19615242 10.48808848]\n [ 8.77496439 10.72380529 14.4222051   1.        ]]\n"
        }
      ],
      "execution_count": 17,
      "metadata": {},
      "id": "9aa9cafa"
    },
    {
      "cell_type": "code",
      "source": [
        "np.shape(distance_matrix)"
      ],
      "outputs": [
        {
          "output_type": "execute_result",
          "execution_count": 18,
          "data": {
            "text/plain": "(2, 4)"
          },
          "metadata": {}
        }
      ],
      "execution_count": 18,
      "metadata": {},
      "id": "1d8015cd"
    },
    {
      "cell_type": "code",
      "source": [
        "# sorting distance computations and their corresponding labels.\n",
        "sorted_train_labels = get_sorted_train_labels(distance_matrix, y_train)"
      ],
      "outputs": [],
      "execution_count": 19,
      "metadata": {},
      "id": "88a8f248"
    },
    {
      "cell_type": "code",
      "source": [
        "print(sorted_train_labels)"
      ],
      "outputs": [
        {
          "output_type": "stream",
          "name": "stdout",
          "text": "[[1 1 2 3]\n [3 1 1 2]]\n"
        }
      ],
      "execution_count": 20,
      "metadata": {},
      "id": "1e0492b7"
    },
    {
      "cell_type": "code",
      "source": [
        "print(\"Closest 3 classes for first element from set X: {}\".format(sorted_train_labels[0, :3]))"
      ],
      "outputs": [
        {
          "output_type": "stream",
          "name": "stdout",
          "text": "Closest 3 classes for first element from set X: [1 1 2]\n"
        }
      ],
      "execution_count": 21,
      "metadata": {},
      "id": "2b530ccf"
    },
    {
      "cell_type": "markdown",
      "source": [
        "### b."
      ],
      "metadata": {},
      "id": "ce1f0b87"
    },
    {
      "cell_type": "code",
      "source": [
        "# First arrange the label sequence and then find the mode of k labels.\n",
        "def get_mode_of_labels(labels, k):\n",
        "    \"\"\"\n",
        "    Compute the mode of k labels\n",
        "    \"\"\"\n",
        "    \n",
        "    raise NotImplementedError"
      ],
      "outputs": [],
      "execution_count": 22,
      "metadata": {},
      "id": "8dbbc3a3"
    },
    {
      "cell_type": "markdown",
      "source": [
        "### c."
      ],
      "metadata": {},
      "id": "7118629d"
    },
    {
      "cell_type": "code",
      "source": [
        "# Now, using the functions created above, build a KNN.\n",
        "def predict(x_test, x_train, y_train, k, distance_function):\n",
        "    \n",
        "    raise NotImplementedError"
      ],
      "outputs": [],
      "execution_count": 23,
      "metadata": {},
      "id": "81136f1c"
    },
    {
      "cell_type": "code",
      "source": [
        "prediction = predict(x_test, x_train, y_train, 3, pairwise_3)"
      ],
      "outputs": [],
      "execution_count": 24,
      "metadata": {},
      "id": "7514215e"
    },
    {
      "cell_type": "code",
      "source": [
        "print(prediction)"
      ],
      "outputs": [
        {
          "output_type": "stream",
          "name": "stdout",
          "text": "[1 1]\n"
        }
      ],
      "execution_count": 25,
      "metadata": {},
      "id": "b9671022"
    },
    {
      "cell_type": "code",
      "source": [],
      "outputs": [],
      "execution_count": null,
      "metadata": {},
      "id": "9cc5ea78"
    }
  ],
  "metadata": {
    "kernelspec": {
      "display_name": "Python 3 (ipykernel)",
      "language": "python",
      "name": "python3"
    },
    "language_info": {
      "codemirror_mode": {
        "name": "ipython",
        "version": 3
      },
      "file_extension": ".py",
      "mimetype": "text/x-python",
      "name": "python",
      "nbconvert_exporter": "python",
      "pygments_lexer": "ipython3",
      "version": "3.10.13"
    },
    "nteract": {
      "version": "nteract-front-end@1.0.0"
    }
  },
  "nbformat": 4,
  "nbformat_minor": 5
}