{
 "cells": [
  {
   "cell_type": "code",
   "execution_count": 2,
   "id": "04b904c2",
   "metadata": {},
   "outputs": [
    {
     "name": "stderr",
     "output_type": "stream",
     "text": [
      "Matplotlib is building the font cache; this may take a moment.\n"
     ]
    }
   ],
   "source": [
    "%matplotlib inline\n",
    "import numpy as np"
   ]
  },
  {
   "cell_type": "markdown",
   "id": "167422d2",
   "metadata": {},
   "source": [
    "# Lab-2: GEOMETRY & NEAREST NEIGHBORS \n",
    "- Breakdown weightage for each part of the question is given.\n",
    "- You can access class notes and library documentations."
   ]
  },
  {
   "cell_type": "markdown",
   "id": "77dc66ff",
   "metadata": {},
   "source": [
    "## 1. Euclidean Norm (10 + 10 + 20 + 10 + 10) \n",
    "The first task for today will be to write functions to compute distances in different orders of complexity."
   ]
  },
  {
   "cell_type": "code",
   "execution_count": 238,
   "id": "f0ec2a0a",
   "metadata": {},
   "outputs": [],
   "source": [
    "np.random.seed(2)\n",
    "x_a, x_b = (np.random.rand(i, 2) for i in (2, 3))\n",
    "x_c, x_d = (np.random.rand(i, 100) for i in (125, 150))"
   ]
  },
  {
   "cell_type": "code",
   "execution_count": 239,
   "id": "b2e0ee41-b583-4ce9-84b9-6276825b76b0",
   "metadata": {},
   "outputs": [
    {
     "data": {
      "text/plain": [
       "(array([[0.4359949 , 0.02592623],\n",
       "        [0.54966248, 0.43532239]]),\n",
       " array([[0.4203678 , 0.33033482],\n",
       "        [0.20464863, 0.61927097],\n",
       "        [0.29965467, 0.26682728]]))"
      ]
     },
     "execution_count": 239,
     "metadata": {},
     "output_type": "execute_result"
    }
   ],
   "source": [
    "x_a, x_b"
   ]
  },
  {
   "cell_type": "code",
   "execution_count": 240,
   "id": "f5494b88-64cb-4901-b252-3e76cc027248",
   "metadata": {},
   "outputs": [
    {
     "data": {
      "text/plain": [
       "(2, (2, 2), 2)"
      ]
     },
     "execution_count": 240,
     "metadata": {},
     "output_type": "execute_result"
    }
   ],
   "source": [
    "x_a.ndim, x_a.shape, x_a.shape[0]"
   ]
  },
  {
   "cell_type": "code",
   "execution_count": 241,
   "id": "9a6e8e21-77fe-4f10-be4d-056cadfb6ab0",
   "metadata": {},
   "outputs": [
    {
     "name": "stdout",
     "output_type": "stream",
     "text": [
      "[0.4359949  0.02592623]\n",
      "[0.54966248 0.43532239]\n"
     ]
    }
   ],
   "source": [
    "for val in x_a:\n",
    "    print(val)"
   ]
  },
  {
   "cell_type": "code",
   "execution_count": 242,
   "id": "80b05c02-efac-43d7-9d6e-986e12ac7599",
   "metadata": {},
   "outputs": [
    {
     "name": "stdout",
     "output_type": "stream",
     "text": [
      "[0.4203678  0.33033482]\n",
      "[0.20464863 0.61927097]\n",
      "[0.29965467 0.26682728]\n"
     ]
    }
   ],
   "source": [
    "for val in x_b:\n",
    "    print(val)"
   ]
  },
  {
   "cell_type": "markdown",
   "id": "9f97e159",
   "metadata": {},
   "source": [
    "### a."
   ]
  },
  {
   "cell_type": "markdown",
   "id": "e3a972c4-7aad-4928-9f24-4656476826a4",
   "metadata": {},
   "source": [
    "### 3 For loops for traversing the x matrix, y matrix and then the rows of these matrices, since their dimensions are same. Then saved the square of the differences of the dimensions in a temporary array and then stored these arrays in the final result dist"
   ]
  },
  {
   "cell_type": "code",
   "execution_count": 243,
   "id": "7edd6e3c",
   "metadata": {},
   "outputs": [],
   "source": [
    "def pairwise_1(x, y):\n",
    "    \"\"\"\n",
    "    Find pairwise euclidean distance using three for loops\n",
    "    \"\"\"\n",
    "    # x is 2*2\n",
    "    # y is 3*2\n",
    "    dist = np.empty((x.shape[0], y.shape[0]))\n",
    "    i = 0\n",
    "    \n",
    "    for val1 in x:\n",
    "        temp = []\n",
    "        for val2 in y:\n",
    "            distance = 0\n",
    "            for k in range(val1.shape[0]):\n",
    "                dim1 = val1[k]\n",
    "                dim2 = val2[k]\n",
    "                distance = distance + (dim1 - dim2) ** 2\n",
    "            temp.append(distance ** (1/2))\n",
    "        dist[i] = temp\n",
    "        i = i + 1\n",
    "    \n",
    "    return dist\n",
    "             \n",
    "#raise NotImplementedError"
   ]
  },
  {
   "cell_type": "code",
   "execution_count": 244,
   "id": "47750e8c-a4c8-4827-b390-4641588e91e7",
   "metadata": {},
   "outputs": [
    {
     "data": {
      "text/plain": [
       "array([[0.30480944, 0.6368509 , 0.27680674],\n",
       "       [0.1665518 , 0.39098802, 0.30148716]])"
      ]
     },
     "execution_count": 244,
     "metadata": {},
     "output_type": "execute_result"
    }
   ],
   "source": [
    "pairwise_1(x_a, x_b) #checking my function's output"
   ]
  },
  {
   "cell_type": "code",
   "execution_count": 245,
   "id": "f5aedb30",
   "metadata": {},
   "outputs": [
    {
     "data": {
      "text/plain": [
       "array([[0.30480944, 0.6368509 , 0.27680674],\n",
       "       [0.1665518 , 0.39098802, 0.30148716]])"
      ]
     },
     "execution_count": 245,
     "metadata": {},
     "output_type": "execute_result"
    }
   ],
   "source": [
    "pairwise_1(x_a, x_b)"
   ]
  },
  {
   "cell_type": "markdown",
   "id": "e828fafe",
   "metadata": {},
   "source": [
    "### b."
   ]
  },
  {
   "cell_type": "code",
   "execution_count": 246,
   "id": "4854b66c-5b1e-4371-8194-256d6360ab28",
   "metadata": {},
   "outputs": [
    {
     "name": "stdout",
     "output_type": "stream",
     "text": [
      "[0.4359949  0.02592623]\n",
      "[0.54966248 0.43532239]\n"
     ]
    }
   ],
   "source": [
    "for val in x_a:\n",
    "    print(val)"
   ]
  },
  {
   "cell_type": "code",
   "execution_count": 247,
   "id": "de770f2b-2471-481a-b940-169d51a83a52",
   "metadata": {},
   "outputs": [
    {
     "name": "stdout",
     "output_type": "stream",
     "text": [
      "[0.4203678  0.33033482]\n",
      "[0.20464863 0.61927097]\n",
      "[0.29965467 0.26682728]\n"
     ]
    }
   ],
   "source": [
    "for val in x_b:\n",
    "    print(val)"
   ]
  },
  {
   "cell_type": "code",
   "execution_count": 248,
   "id": "829cc8d3",
   "metadata": {},
   "outputs": [],
   "source": [
    "def pairwise_2(x, y):\n",
    "    \"\"\"\n",
    "    Find pairwise euclidean distance using two for loops\n",
    "    \"\"\"\n",
    "    dist = np.empty((x.shape[0], y.shape[0]))\n",
    "    i = 0\n",
    "    for val1 in x:\n",
    "        j = 0\n",
    "        for val2 in  y:\n",
    "            temp = []\n",
    "            dist[i][j] = np.sum((val1 - val2) ** 2) ** (1/2)\n",
    "            #print(dist[i][j])\n",
    "            j = j + 1\n",
    "        i = i + 1\n",
    "    return dist\n",
    "    #raise NotImplementedError"
   ]
  },
  {
   "cell_type": "code",
   "execution_count": 249,
   "id": "fb4db928-7a9e-4a02-8069-9e00b709a130",
   "metadata": {},
   "outputs": [
    {
     "data": {
      "text/plain": [
       "array([[0.30480944, 0.6368509 , 0.27680674],\n",
       "       [0.1665518 , 0.39098802, 0.30148716]])"
      ]
     },
     "execution_count": 249,
     "metadata": {},
     "output_type": "execute_result"
    }
   ],
   "source": [
    "pairwise_2(x_a, x_b) #checking my function's output"
   ]
  },
  {
   "cell_type": "code",
   "execution_count": 250,
   "id": "08280774",
   "metadata": {},
   "outputs": [
    {
     "data": {
      "text/plain": [
       "array([[0.30480944, 0.6368509 , 0.27680674],\n",
       "       [0.1665518 , 0.39098802, 0.30148716]])"
      ]
     },
     "execution_count": 250,
     "metadata": {},
     "output_type": "execute_result"
    }
   ],
   "source": [
    "pairwise_2(x_a, x_b)"
   ]
  },
  {
   "cell_type": "markdown",
   "id": "342f480c",
   "metadata": {},
   "source": [
    "### c."
   ]
  },
  {
   "cell_type": "code",
   "execution_count": 251,
   "id": "78d245b8",
   "metadata": {},
   "outputs": [],
   "source": [
    "def pairwise_3(x, y):\n",
    "    \"\"\"\n",
    "    An optimize solution with no for loops\n",
    "  \n",
    "    \"\"\"\n",
    "    dist_mat = np.sum((x[:, None] - y) ** 2, axis = -1) ** (1/2)\n",
    "    return dist_mat\n",
    "    \n",
    "    #raise NotImplementedError"
   ]
  },
  {
   "cell_type": "code",
   "execution_count": 252,
   "id": "4c6b7208-67b0-417e-a1ae-dbe1c11bc66b",
   "metadata": {},
   "outputs": [
    {
     "data": {
      "text/plain": [
       "array([[0.30480944, 0.6368509 , 0.27680674],\n",
       "       [0.1665518 , 0.39098802, 0.30148716]])"
      ]
     },
     "execution_count": 252,
     "metadata": {},
     "output_type": "execute_result"
    }
   ],
   "source": [
    "pairwise_3(x_a, x_b) #checking my function's output"
   ]
  },
  {
   "cell_type": "code",
   "execution_count": 253,
   "id": "08f3749b",
   "metadata": {},
   "outputs": [
    {
     "data": {
      "text/plain": [
       "array([[0.30480944, 0.6368509 , 0.27680674],\n",
       "       [0.1665518 , 0.39098802, 0.30148716]])"
      ]
     },
     "execution_count": 253,
     "metadata": {},
     "output_type": "execute_result"
    }
   ],
   "source": [
    "pairwise_3(x_a, x_b)"
   ]
  },
  {
   "cell_type": "markdown",
   "id": "9217bcf3",
   "metadata": {},
   "source": [
    "### d."
   ]
  },
  {
   "cell_type": "code",
   "execution_count": 254,
   "id": "99ecd2ff",
   "metadata": {},
   "outputs": [],
   "source": [
    "# Compute distance using euclidean distance from scipy library(you can only refer the scipy documentation)\n",
    "from scipy.spatial import distance_matrix \n",
    "def scipy_version(x, y):\n",
    "    \"\"\"\n",
    "    A solution using scipy\n",
    "    \"\"\"\n",
    "    dist = distance_matrix(x, y, p=2)\n",
    "    return dist\n",
    "    #raise NotImplementedError"
   ]
  },
  {
   "cell_type": "code",
   "execution_count": 255,
   "id": "a68cd16b",
   "metadata": {},
   "outputs": [
    {
     "data": {
      "text/plain": [
       "array([[0.30480944, 0.6368509 , 0.27680674],\n",
       "       [0.1665518 , 0.39098802, 0.30148716]])"
      ]
     },
     "execution_count": 255,
     "metadata": {},
     "output_type": "execute_result"
    }
   ],
   "source": [
    "scipy_version(x_a, x_b)"
   ]
  },
  {
   "cell_type": "markdown",
   "id": "057193e4",
   "metadata": {},
   "source": [
    "### e."
   ]
  },
  {
   "cell_type": "code",
   "execution_count": 256,
   "id": "aa50cf8d-586d-473a-89b1-839c9a2ac95a",
   "metadata": {},
   "outputs": [
    {
     "name": "stdout",
     "output_type": "stream",
     "text": [
      "8.36 μs ± 1.23 μs per loop (mean ± std. dev. of 7 runs, 100 loops each)\n",
      "19.9 μs ± 731 ns per loop (mean ± std. dev. of 7 runs, 100 loops each)\n",
      "5.99 μs ± 1.82 μs per loop (mean ± std. dev. of 7 runs, 100 loops each)\n",
      "8.42 μs ± 2.18 μs per loop (mean ± std. dev. of 7 runs, 100 loops each)\n"
     ]
    }
   ],
   "source": [
    "# Now compare all 4 method's runtime using inbuilt timeit function for 7 runs.\n",
    "methods = [\n",
    "    pairwise_1,\n",
    "    pairwise_2,\n",
    "    pairwise_3,\n",
    "    scipy_version,\n",
    "]\n",
    "#TODO: Compute the run time(r) of all methods above\n",
    "import timeit\n",
    "%timeit -n100 -r7 pairwise_1(x_a, x_b)\n",
    "%timeit -n100 -r7 pairwise_2(x_a, x_b)\n",
    "%timeit -n100 -r7 pairwise_3(x_a, x_b)\n",
    "%timeit -n100 -r7 scipy_version(x_a, x_b)"
   ]
  },
  {
   "cell_type": "code",
   "execution_count": 257,
   "id": "2c093c86",
   "metadata": {},
   "outputs": [],
   "source": [
    "# Now compare all 4 method's runtime using inbuilt timeit function for 7 runs.\n",
    "methods = [\n",
    "    pairwise_1,\n",
    "    pairwise_2,\n",
    "    pairwise_3,\n",
    "    scipy_version,\n",
    "]\n",
    "#TODO: Compute the run time(r) of all methods above"
   ]
  },
  {
   "cell_type": "code",
   "execution_count": 258,
   "id": "f20d41ba",
   "metadata": {},
   "outputs": [
    {
     "name": "stdout",
     "output_type": "stream",
     "text": [
      "0.000745400000596419\n",
      "0.001936500000738306\n",
      "0.0004102000002603745\n",
      "0.0007542999992438126\n"
     ]
    }
   ],
   "source": [
    "#print best values of time(in s) for all methods, out of the 7 runs.\n",
    "setup = '''import numpy as np \n",
    "from __main__ import pairwise_1, x_a, x_b, pairwise_2, pairwise_3, scipy_version\n",
    "'''\n",
    "print(min(timeit.Timer(\"pairwise_1(x_a, x_b)\", setup=setup).repeat(7, 100)))\n",
    "print(min(timeit.Timer(\"pairwise_2(x_a, x_b)\", setup=setup).repeat(7, 100)))\n",
    "print(min(timeit.Timer(\"pairwise_3(x_a, x_b)\", setup=setup).repeat(7, 100)))\n",
    "print(min(timeit.Timer(\"scipy_version(x_a, x_b)\", setup=setup).repeat(7, 100)))\n"
   ]
  },
  {
   "cell_type": "markdown",
   "id": "5e2b3092",
   "metadata": {},
   "source": [
    "## 2. KNN (10 + 20 + 10)\n",
    "Next we are going to implement KNN algorithm from scratch"
   ]
  },
  {
   "cell_type": "markdown",
   "id": "732b2500",
   "metadata": {},
   "source": [
    "### a."
   ]
  },
  {
   "cell_type": "markdown",
   "id": "1a49dd51-e4ff-4404-b255-4862a07b8050",
   "metadata": {},
   "source": [
    "### The function below is storing the distances and the labels in the dictionary. Then the distances are sorted and the sorted labels are returned"
   ]
  },
  {
   "cell_type": "code",
   "execution_count": 155,
   "id": "0a5d9a20",
   "metadata": {},
   "outputs": [],
   "source": [
    "# sort elements of matrix and corresponding labels in ascending order.\n",
    "def get_sorted_train_labels(distance_matrix, labels):\n",
    "    sorted_labels = np.empty(distance_matrix.shape)\n",
    "    #print(sorted_labels.shape[0], sorted_labels.shape[1])\n",
    "    j = 0\n",
    "    \n",
    "    for row in range(distance_matrix.shape[0]):\n",
    "        dict = {}\n",
    "        for i in range(distance_matrix.shape[1]):\n",
    "            dict[distance_matrix[row][i]] = y_train[i]\n",
    "            \n",
    "        dist_list = list(dict.keys())\n",
    "        dist_list.sort()\n",
    "        for ele in range(len(dist_list)):\n",
    "            sorted_labels[j][ele] = int(dict[dist_list[ele]])    \n",
    "        j = j + 1\n",
    "\n",
    "        \n",
    "    return sorted_labels\n",
    "        \n",
    "    #raise NotImplementedError"
   ]
  },
  {
   "cell_type": "code",
   "execution_count": 112,
   "id": "a3017696",
   "metadata": {},
   "outputs": [],
   "source": [
    "# test cases\n",
    "x_test = np.array([[1,2,3] , [-4,5,-6]])\n",
    "x_train = np.array([[0,0,0], [1,2,3], [4,5,6], [-4, 4, -6]]) \n",
    "y_train = np.array([[1, 1, 2, 3]]).T  #labels"
   ]
  },
  {
   "cell_type": "code",
   "execution_count": 113,
   "id": "82d68ace",
   "metadata": {},
   "outputs": [
    {
     "data": {
      "text/plain": [
       "array([[ True,  True,  True,  True],\n",
       "       [ True,  True,  True,  True]])"
      ]
     },
     "execution_count": 113,
     "metadata": {},
     "output_type": "execute_result"
    }
   ],
   "source": [
    "# Here, we are comparing the distance computed by different methods if they are similar or not.\n",
    "np.isclose(pairwise_1(x_test, x_train), pairwise_2(x_test, x_train)) "
   ]
  },
  {
   "cell_type": "code",
   "execution_count": 114,
   "id": "6feb881e",
   "metadata": {},
   "outputs": [
    {
     "data": {
      "text/plain": [
       "array([[ True,  True,  True,  True],\n",
       "       [ True,  True,  True,  True]])"
      ]
     },
     "execution_count": 114,
     "metadata": {},
     "output_type": "execute_result"
    }
   ],
   "source": [
    "np.isclose(pairwise_2(x_test, x_train), pairwise_3(x_test, x_train))"
   ]
  },
  {
   "cell_type": "code",
   "execution_count": 115,
   "id": "234eaaff",
   "metadata": {},
   "outputs": [],
   "source": [
    "distance_matrix = pairwise_3(x_test, x_train)"
   ]
  },
  {
   "cell_type": "code",
   "execution_count": 116,
   "id": "9aa9cafa",
   "metadata": {},
   "outputs": [
    {
     "name": "stdout",
     "output_type": "stream",
     "text": [
      "[[ 3.74165739  0.          5.19615242 10.48808848]\n",
      " [ 8.77496439 10.72380529 14.4222051   1.        ]]\n"
     ]
    }
   ],
   "source": [
    "print(distance_matrix)"
   ]
  },
  {
   "cell_type": "code",
   "execution_count": 117,
   "id": "1d8015cd",
   "metadata": {},
   "outputs": [
    {
     "data": {
      "text/plain": [
       "(2, 4)"
      ]
     },
     "execution_count": 117,
     "metadata": {},
     "output_type": "execute_result"
    }
   ],
   "source": [
    "np.shape(distance_matrix)"
   ]
  },
  {
   "cell_type": "code",
   "execution_count": 156,
   "id": "48bec103-9c67-4108-8a25-0f9926969d4a",
   "metadata": {},
   "outputs": [
    {
     "name": "stderr",
     "output_type": "stream",
     "text": [
      "C:\\Users\\Guest User\\AppData\\Local\\Temp\\ipykernel_11108\\4063489250.py:16: DeprecationWarning: Conversion of an array with ndim > 0 to a scalar is deprecated, and will error in future. Ensure you extract a single element from your array before performing this operation. (Deprecated NumPy 1.25.)\n",
      "  sorted_labels[j][ele] = int(dict[dist_list[ele]])\n"
     ]
    },
    {
     "data": {
      "text/plain": [
       "array([[1., 1., 2., 3.],\n",
       "       [3., 1., 1., 2.]])"
      ]
     },
     "execution_count": 156,
     "metadata": {},
     "output_type": "execute_result"
    }
   ],
   "source": [
    "sorted_labels = get_sorted_train_labels(distance_matrix, y_train)\n",
    "sorted_labels"
   ]
  },
  {
   "cell_type": "code",
   "execution_count": 157,
   "id": "88a8f248",
   "metadata": {},
   "outputs": [
    {
     "name": "stderr",
     "output_type": "stream",
     "text": [
      "C:\\Users\\Guest User\\AppData\\Local\\Temp\\ipykernel_11108\\4063489250.py:16: DeprecationWarning: Conversion of an array with ndim > 0 to a scalar is deprecated, and will error in future. Ensure you extract a single element from your array before performing this operation. (Deprecated NumPy 1.25.)\n",
      "  sorted_labels[j][ele] = int(dict[dist_list[ele]])\n"
     ]
    }
   ],
   "source": [
    "# sorting distance computations and their corresponding labels.\n",
    "sorted_train_labels = get_sorted_train_labels(distance_matrix, y_train)"
   ]
  },
  {
   "cell_type": "code",
   "execution_count": 20,
   "id": "1e0492b7",
   "metadata": {},
   "outputs": [
    {
     "name": "stdout",
     "output_type": "stream",
     "text": [
      "[[1 1 2 3]\n",
      " [3 1 1 2]]\n"
     ]
    }
   ],
   "source": [
    "print(sorted_train_labels)"
   ]
  },
  {
   "cell_type": "code",
   "execution_count": 158,
   "id": "6f16f2fc-4cf6-45c9-a3d8-24a71b01e4af",
   "metadata": {},
   "outputs": [
    {
     "name": "stdout",
     "output_type": "stream",
     "text": [
      "Closest 3 classes for first element from set X: [1. 1. 2.]\n"
     ]
    }
   ],
   "source": [
    "print(\"Closest 3 classes for first element from set X: {}\".format(sorted_train_labels[0, :3]))"
   ]
  },
  {
   "cell_type": "code",
   "execution_count": 21,
   "id": "2b530ccf",
   "metadata": {},
   "outputs": [
    {
     "name": "stdout",
     "output_type": "stream",
     "text": [
      "Closest 3 classes for first element from set X: [1 1 2]\n"
     ]
    }
   ],
   "source": [
    "print(\"Closest 3 classes for first element from set X: {}\".format(sorted_train_labels[0, :3]))"
   ]
  },
  {
   "cell_type": "markdown",
   "id": "ce1f0b87",
   "metadata": {},
   "source": [
    "### b."
   ]
  },
  {
   "cell_type": "markdown",
   "id": "1b234e59-e9b4-4902-9968-c779fe98a5bc",
   "metadata": {},
   "source": [
    "### The function below is traversing through the labels matrix and for each test data point, it is storing the occurences of the top k labels in the dictionary. Then the label with maximum number of occurences is stored as the final label. If 2 labels have equal number of occurences then the label with smaller numerical value is stored in final"
   ]
  },
  {
   "cell_type": "code",
   "execution_count": 233,
   "id": "8dbbc3a3",
   "metadata": {},
   "outputs": [],
   "source": [
    "# First arrange the label sequence and then find the mode of k labels.\n",
    "def get_mode_of_labels(labels, k):\n",
    "    \"\"\"\n",
    "    Compute the mode of k labels\n",
    "    \"\"\"\n",
    "    \n",
    "    #print(labels)\n",
    "    final_labels = []\n",
    "    for row in labels:\n",
    "        dict = {}\n",
    "        #print(row)\n",
    "        for j in row:\n",
    "            #print(j)\n",
    "            dict[j] = 0\n",
    "            \n",
    "        #print(len(row))\n",
    "        for i in range(len(row)):\n",
    "            if (i == (k - 1)):\n",
    "                #print(i)\n",
    "                break\n",
    "            else:\n",
    "                dict[row[i]] = dict[row[i]] + 1\n",
    "                #print(dict[row[i]])\n",
    "\n",
    "        maxm = 0\n",
    "        label = 0   \n",
    "        #print(dict)\n",
    "        for key in dict.keys():\n",
    "            if(dict[key] > maxm):\n",
    "                label = key\n",
    "                maxm = dict[key]\n",
    "            elif(dict[key] == maxm):\n",
    "                if(label > key or label == 0):\n",
    "                    label = key\n",
    "                \n",
    "        #print(label)\n",
    "        final_labels.append(int(label))\n",
    "        #print(final_labels)\n",
    "\n",
    "    #print(final_labels)\n",
    "    return final_labels\n",
    "    \n",
    "   # raise NotImplementedError"
   ]
  },
  {
   "cell_type": "markdown",
   "id": "7118629d",
   "metadata": {},
   "source": [
    "### c."
   ]
  },
  {
   "cell_type": "code",
   "execution_count": 234,
   "id": "81136f1c",
   "metadata": {},
   "outputs": [],
   "source": [
    "# Now, using the functions created above, build a KNN.\n",
    "def predict(x_test, x_train, y_train, k, distance_function):\n",
    "\n",
    "    final_labels = []\n",
    "    \n",
    "    dist_mat = pairwise_3(x_test, x_train)\n",
    "    get_sorted_labels = get_sorted_train_labels(dist_mat, y_train)\n",
    "    final_labels = get_mode_of_labels(get_sorted_labels, k)\n",
    "    return final_labels\n",
    "   # raise NotImplementedError"
   ]
  },
  {
   "cell_type": "code",
   "execution_count": 235,
   "id": "7514215e",
   "metadata": {},
   "outputs": [
    {
     "name": "stderr",
     "output_type": "stream",
     "text": [
      "C:\\Users\\Guest User\\AppData\\Local\\Temp\\ipykernel_11108\\4063489250.py:16: DeprecationWarning: Conversion of an array with ndim > 0 to a scalar is deprecated, and will error in future. Ensure you extract a single element from your array before performing this operation. (Deprecated NumPy 1.25.)\n",
      "  sorted_labels[j][ele] = int(dict[dist_list[ele]])\n"
     ]
    }
   ],
   "source": [
    "prediction = predict(x_test, x_train, y_train, 3, pairwise_3)"
   ]
  },
  {
   "cell_type": "code",
   "execution_count": 236,
   "id": "e5b7c152-2305-4635-8aab-9e0aea5d8c1c",
   "metadata": {},
   "outputs": [
    {
     "name": "stdout",
     "output_type": "stream",
     "text": [
      "[1, 1]\n"
     ]
    }
   ],
   "source": [
    "print(prediction)"
   ]
  },
  {
   "cell_type": "code",
   "execution_count": 25,
   "id": "b9671022",
   "metadata": {},
   "outputs": [
    {
     "name": "stdout",
     "output_type": "stream",
     "text": [
      "[1 1]\n"
     ]
    }
   ],
   "source": [
    "print(prediction)"
   ]
  },
  {
   "cell_type": "code",
   "execution_count": null,
   "id": "9cc5ea78",
   "metadata": {},
   "outputs": [],
   "source": []
  }
 ],
 "metadata": {
  "kernelspec": {
   "display_name": "Python 3 (ipykernel)",
   "language": "python",
   "name": "python3"
  },
  "language_info": {
   "codemirror_mode": {
    "name": "ipython",
    "version": 3
   },
   "file_extension": ".py",
   "mimetype": "text/x-python",
   "name": "python",
   "nbconvert_exporter": "python",
   "pygments_lexer": "ipython3",
   "version": "3.12.4"
  },
  "nteract": {
   "version": "nteract-front-end@1.0.0"
  }
 },
 "nbformat": 4,
 "nbformat_minor": 5
}
