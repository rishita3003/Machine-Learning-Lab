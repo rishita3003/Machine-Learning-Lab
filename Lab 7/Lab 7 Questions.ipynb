{
 "cells": [
  {
   "cell_type": "code",
   "execution_count": 53,
   "metadata": {
    "_cell_guid": "b1076dfc-b9ad-4769-8c92-a6c4dae69d19",
    "_uuid": "8f2839f25d086af736a60e9eeb907d3b93b6e0e5"
   },
   "outputs": [],
   "source": [
    "import numpy as np \n",
    "import pandas as pd \n",
    "\n",
    "import matplotlib.pyplot as plt\n",
    "import seaborn as sns"
   ]
  },
  {
   "cell_type": "markdown",
   "metadata": {},
   "source": [
    "# Lab-7 : Predict target SalePrice Using Multiple Linear Regression\n",
    " Preprocess the dataset:\n",
    "* Handle missing values.\n",
    "* Encode categorical variables.\n",
    "* Normalize the data using Z-score or Min-Max normalization.\n",
    "* etc\n",
    "\n",
    " Perform Extrapolatory Data Analysis on the dataset"
   ]
  },
  {
   "cell_type": "markdown",
   "metadata": {},
   "source": [
    "# Preprocess"
   ]
  },
  {
   "cell_type": "code",
   "execution_count": 23,
   "metadata": {
    "_cell_guid": "79c7e3d0-c299-4dcb-8224-4455121ee9b0",
    "_uuid": "d629ff2d2480ee46fbb7e2d37f6b5fab8052498a"
   },
   "outputs": [],
   "source": [
    "#Load dataset"
   ]
  },
  {
   "cell_type": "code",
   "execution_count": 1,
   "metadata": {},
   "outputs": [],
   "source": [
    "# display columns of train"
   ]
  },
  {
   "cell_type": "code",
   "execution_count": 25,
   "metadata": {},
   "outputs": [],
   "source": [
    "### Task 1: Preprocessing the Dataset ###\n",
    "def preprocess_data(df):    \n",
    "    return df"
   ]
  },
  {
   "cell_type": "markdown",
   "metadata": {},
   "source": [
    "## EDA"
   ]
  },
  {
   "cell_type": "code",
   "execution_count": 2,
   "metadata": {},
   "outputs": [],
   "source": [
    "# Perform EDA on some of the relevant features"
   ]
  },
  {
   "cell_type": "markdown",
   "metadata": {},
   "source": [
    "# Task 2: Linear Regression\n",
    "For the next task we will be using Multiple Linear Regression to solve the problem:\n",
    "* Gradient Descent\n",
    "* Stochastic Gradient Descent (with batch size of 1)\n",
    "* AdaGrad Method\n",
    "* Newton Method\n"
   ]
  },
  {
   "cell_type": "code",
   "execution_count": 1,
   "metadata": {},
   "outputs": [],
   "source": [
    "# Gradient Descent Implementation\n",
    "def gradient_descent(X, y, learning_rate=0.01, iterations=1000):\n",
    "    w = np.zeros(X.shape[1])\n",
    "    dw = (1/m)*(np.dot(X.transpose(), np.dot(X,w)-y)) #y_pred - y\n",
    "    for _ in range(iterations):\n",
    "        w = w - learning_rate*dw\n",
    "\n",
    "    return w\n",
    "    #return NotImplementedError"
   ]
  },
  {
   "cell_type": "code",
   "execution_count": 2,
   "metadata": {},
   "outputs": [],
   "source": [
    "# AdaGrad Implementation\n",
    "def adagrad(X, y, learning_rate=0.01, iterations=1000, epsilon=1e-8):\n",
    "    num_samples, num_features = X.shape\n",
    "    w = np.zeros(num_features)\n",
    "    G = np.zeroes(num_features)\n",
    "    for _ in num(iterations):\n",
    "        w_grad = (1/m)*(np.dot(X.transpose(), np.dot(X,w)-y)) #y_pred - y\n",
    "        G += (w_grad)**2\n",
    "        w = w - w_grad*(learning_rate/np.sqrt(epsilon+G))\n",
    "    \n",
    "    return w\n",
    "\n",
    "    #return NotImplementedError"
   ]
  },
  {
   "cell_type": "code",
   "execution_count": null,
   "metadata": {},
   "outputs": [],
   "source": [
    "def newton_method(X, y, epochs=10, tol=1e-6):\n",
    "    \n",
    "    #return NotImplementedError"
   ]
  },
  {
   "cell_type": "code",
   "execution_count": null,
   "metadata": {},
   "outputs": [],
   "source": [
    "def stochastic_gradient_descent(X, y, learning_rate=0.001, iterations=1000):\n",
    "    \n",
    "    #return NotImplementedError"
   ]
  },
  {
   "cell_type": "code",
   "execution_count": 3,
   "metadata": {},
   "outputs": [],
   "source": [
    "###  MSE Calculation ###\n",
    "def mean_squared_error(X, y, theta):\n",
    "    y_pred = np.dot(theta, X)\n",
    "    return np.sum((y_pred-y)**2)/len(y)\n",
    "    #return NotImplementedError"
   ]
  },
  {
   "cell_type": "code",
   "execution_count": null,
   "metadata": {},
   "outputs": [],
   "source": [
    "# Implement and find mse for Gradient Descent, Stochastic Gradient Descent, AdaGrad, Newton's Method and write your inference"
   ]
  }
 ],
 "metadata": {
  "kernelspec": {
   "display_name": "Python 3",
   "language": "python",
   "name": "python3"
  },
  "language_info": {
   "codemirror_mode": {
    "name": "ipython",
    "version": 3
   },
   "file_extension": ".py",
   "mimetype": "text/x-python",
   "name": "python",
   "nbconvert_exporter": "python",
   "pygments_lexer": "ipython3",
   "version": "3.11.9"
  }
 },
 "nbformat": 4,
 "nbformat_minor": 4
}
